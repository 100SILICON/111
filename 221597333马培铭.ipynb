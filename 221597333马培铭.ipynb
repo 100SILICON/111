{
 "cells": [
  {
   "cell_type": "markdown",
   "id": "ae7a6828",
   "metadata": {},
   "source": [
    "## $$实验4  程序的流程控制$$"
   ]
  },
  {
   "cell_type": "markdown",
   "id": "0fc19976",
   "metadata": {},
   "source": [
    "**完整实验文档见教材12章**。交电子版，文档中的学号和姓名要填入，本文档文件名部分的\"学号姓名\"也要改为你的实际数据，前缀\"S01_\"不要改。"
   ]
  },
  {
   "cell_type": "markdown",
   "id": "13165a8c",
   "metadata": {},
   "source": [
    "\n",
    "| | | | | | |\n",
    "|:-|-|:-|-|:-|-|\n",
    "|<font size=4>实验地点:|<font size=4>机房|<font size=4>实验日期:|<font size=4>2024-11-18|<font size=4>学院:|<font size=4>金融与投资学院|"
   ]
  },
  {
   "cell_type": "markdown",
   "id": "93f42b25",
   "metadata": {},
   "source": [
    "## 一、实验目的\n",
    "1. 掌握用if语句编写选择结构程序。\n",
    "2. 掌握用while语句编写循环结构程序。\n",
    "3. 掌握用for语句编写循环结构程序。\n",
    "4. 掌握用continue和break语句实现流程跳转。\n",
    "\n",
    "+ 实验环境：Python3.11 + Anaconda +Jupyter Notebook"
   ]
  },
  {
   "cell_type": "markdown",
   "id": "5b459a0c",
   "metadata": {},
   "source": [
    "## 二、实验内容"
   ]
  },
  {
   "cell_type": "markdown",
   "id": "636c989f",
   "metadata": {},
   "source": [
    "### 1．输入一个日期，包括年、月和日，计算该日期是这一年的第几天。"
   ]
  },
  {
   "cell_type": "code",
   "execution_count": 3,
   "id": "6ec9f37e",
   "metadata": {},
   "outputs": [
    {
     "name": "stdout",
     "output_type": "stream",
     "text": [
      "输入一个日期(年-月-日):2003-03-03\n",
      "输入日期(格式 2024-3-8):2003-03-03\n",
      "2003-03-03 星期 1\n",
      "2003-03-03是当年的第62天\n"
     ]
    }
   ],
   "source": [
    "# 方法一: 自行计算\n",
    "s = input('输入一个日期(年-月-日):')\n",
    "days = [31, 28, 31, 30, 31, 30, 31, 31, 30, 31, 30, 31]  # 每月的天数\n",
    "# 待补充\n",
    "from datetime import datetime\n",
    "s = input('输入日期(格式 2024-3-8):')\n",
    "d = datetime.strptime(s,'%Y-%m-%d') \t# 转日期\n",
    "print(s, '星期', d.isoweekday())\n",
    "firstday=datetime(d.year,1,1)  \t\t# 构造当年的第1天\n",
    "print('{}是当年的第{}天'.format(s, (d-firstday).days+1))\n"
   ]
  },
  {
   "cell_type": "code",
   "execution_count": 4,
   "id": "585b782b",
   "metadata": {},
   "outputs": [
    {
     "name": "stdout",
     "output_type": "stream",
     "text": [
      "输入一个日期(年-月-日):2003-03-03\n",
      "输入日期(格式 2024-3-8):2003-3-3\n",
      "2003-3-3 星期 1\n",
      "2003-3-3是当年的第62天\n"
     ]
    }
   ],
   "source": [
    "# 方法二 : 用 datetime 或 time 库中的日期时间类型完成计算\n",
    "from datetime import datetime\n",
    "\n",
    "s = input('输入一个日期(年-月-日):')\n",
    "y, m, d = [int(x) for x in s.split('-')]  # 分解转换得到整数表示的 年 月 日\n",
    "# 待补充\n",
    "from datetime import datetime\n",
    "s = input('输入日期(格式 2024-3-8):')\n",
    "d = datetime.strptime(s,'%Y-%m-%d') \t# 转日期\n",
    "print(s, '星期', d.isoweekday())\n",
    "firstday=datetime(d.year,1,1)  \t\t# 构造当年的第1天\n",
    "print('{}是当年的第{}天'.format(s, (d-firstday).days+1))\n",
    "\n"
   ]
  },
  {
   "cell_type": "code",
   "execution_count": null,
   "id": "ff05ec33",
   "metadata": {},
   "outputs": [],
   "source": [
    "# 方法3: 利用 time类型变量的 tm_yday属性(当年的第x天)最简单\n",
    "import time\n",
    "\n",
    "s = input('输入一个日期(年-月-日):')\n",
    "t = time.strptime(s, '%Y-%m-%d')  # 将字符串 s 转为 time类型\n",
    "\n",
    "# 待补充\n"
   ]
  },
  {
   "cell_type": "markdown",
   "id": "fc9be95c",
   "metadata": {},
   "source": [
    "###  2．输入三个整数，把这三个整数按从大到小的顺序输出。"
   ]
  },
  {
   "cell_type": "code",
   "execution_count": 5,
   "id": "7431cbe6",
   "metadata": {},
   "outputs": [
    {
     "name": "stdout",
     "output_type": "stream",
     "text": [
      "输入整数a,b,c(逗号分隔):3,4,5\n",
      "输入整数a,b,c(逗号分隔):3,4,5\n",
      "5 4 3\n"
     ]
    }
   ],
   "source": [
    "# 方法一: 用 if 语句两两比较完成排序\n",
    "a, b, c = eval(input(\"输入整数a,b,c(逗号分隔):\"))\n",
    "# 从用户那里获取三个整数\n",
    "a, b, c = eval(input(\"输入整数a,b,c(逗号分隔):\"))\n",
    "\n",
    "# 使用if语句比较并排序\n",
    "if a >= b and a >= c:\n",
    "    if b >= c:\n",
    "        print(a, b, c)\n",
    "    else:\n",
    "        print(a, c, b)\n",
    "elif b >= a and b >= c:\n",
    "    if a >= c:\n",
    "        print(b, a, c)\n",
    "    else:\n",
    "        print(b, c, a)\n",
    "else:\n",
    "    print(c, b, a)"
   ]
  },
  {
   "cell_type": "code",
   "execution_count": 6,
   "id": "c3615923",
   "metadata": {},
   "outputs": [
    {
     "name": "stdout",
     "output_type": "stream",
     "text": [
      "输入整数a,b,c(逗号分隔):3,4,5\n",
      "输入整数a,b,c(逗号分隔):3,4,5\n",
      "5 4 3\n"
     ]
    }
   ],
   "source": [
    "# 方法二: 借助列表完成排序\n",
    "yz = eval(input(\"输入整数a,b,c(逗号分隔):\")) # 得到元组\n",
    "# 从用户那里获取三个整数并转换为列表\n",
    "numbers = list(eval(input(\"输入整数a,b,c(逗号分隔):\")))\n",
    "\n",
    "# 使用sorted函数对列表进行降序排序\n",
    "sorted_numbers = sorted(numbers, reverse=True)\n",
    "\n",
    "# 输出排序后的结果\n",
    "print(sorted_numbers[0], sorted_numbers[1], sorted_numbers[2])"
   ]
  },
  {
   "cell_type": "markdown",
   "id": "265054f0",
   "metadata": {},
   "source": [
    "###  3．分别用while语句和for语句编写程序，计算整数100到1000的和，将结果保存在变量s中。"
   ]
  },
  {
   "cell_type": "code",
   "execution_count": 7,
   "id": "83d598cf",
   "metadata": {},
   "outputs": [
    {
     "name": "stdout",
     "output_type": "stream",
     "text": [
      "495550\n"
     ]
    }
   ],
   "source": [
    "# 初始化变量s和计数器i\n",
    "s = 0\n",
    "i = 100\n",
    "\n",
    "# 使用while循环计算和\n",
    "while i <= 1000:\n",
    "    s += i\n",
    "    i += 1\n",
    "\n",
    "# 输出结果\n",
    "print(s)"
   ]
  },
  {
   "cell_type": "code",
   "execution_count": 8,
   "id": "497cb25e",
   "metadata": {},
   "outputs": [
    {
     "name": "stdout",
     "output_type": "stream",
     "text": [
      "495550\n"
     ]
    }
   ],
   "source": [
    "# 初始化变量s\n",
    "s = 0\n",
    "\n",
    "# 使用for循环计算和\n",
    "for i in range(100, 1001):\n",
    "    s += i\n",
    "\n",
    "# 输出结果\n",
    "print(s)"
   ]
  },
  {
   "cell_type": "markdown",
   "id": "49925612",
   "metadata": {},
   "source": [
    "<font color='blue'>注: 下面的assert是测试语句，用于检查程序的计算结果，不要修改。</font>"
   ]
  },
  {
   "cell_type": "code",
   "execution_count": null,
   "id": "33361b31",
   "metadata": {},
   "outputs": [],
   "source": [
    "# 测试，如测试语句报错，说明上面程序代码不正确\n",
    "assert  s == 495550"
   ]
  },
  {
   "cell_type": "markdown",
   "id": "b513cef8",
   "metadata": {},
   "source": [
    "###  4．随机生成两个1000到10000之间的整数，若这两个整数之间有素数，则输出最小的一个，否则什么都不输出。例如生成的整数是2000和1500，程序要求查找[1500,2000]间的素数，应输出1511。"
   ]
  },
  {
   "cell_type": "code",
   "execution_count": 11,
   "id": "ee25bea4",
   "metadata": {},
   "outputs": [],
   "source": [
    "import random\n",
    "\n",
    "# 定义一个函数来判断一个数是否为素数\n",
    "def is_prime(n):\n",
    "    if n <= 1:\n",
    "        return False\n",
    "    for i in range(2, int(n**0.5) + 1):\n",
    "        if n % i == 0:\n",
    "            return False\n",
    "    return True\n",
    "\n",
    "# 随机生成两个1000到10000之间的整数\n",
    "num1 = random.randint(1000, 10000)\n",
    "num2 = random.randint(1000, 10000)\n",
    "\n",
    "# 确保num1小于num2\n",
    "if num1 > num2:\n",
    "    num1, num2 = num2, num1\n",
    "\n",
    "# 在两个数之间的范围内查找最小的素数\n",
    "for i in range(num2, num1 + 1):\n",
    "    if is_prime(i):\n",
    "        print(i)\n",
    "        break\n"
   ]
  },
  {
   "cell_type": "markdown",
   "id": "aac96216",
   "metadata": {},
   "source": [
    "###  5．国际象棋棋盘共有64个方格，现在第一个格子上放1颗麦粒，以后每一个格子都比前一个格子的麦粒数翻倍。计算放满整个棋盘需要的麦粒总数，结果存于 wheat变量。"
   ]
  },
  {
   "cell_type": "code",
   "execution_count": 12,
   "id": "5b68f00e",
   "metadata": {},
   "outputs": [
    {
     "name": "stdout",
     "output_type": "stream",
     "text": [
      "18446744073709551615\n"
     ]
    }
   ],
   "source": [
    "# 计算麦粒总数\n",
    "wheat = 2**64 - 1\n",
    "\n",
    "# 输出结果\n",
    "print(wheat)"
   ]
  },
  {
   "cell_type": "code",
   "execution_count": null,
   "id": "e6d8a247",
   "metadata": {},
   "outputs": [],
   "source": [
    "# 测试\n",
    "assert  wheat == 18446744073709551615"
   ]
  },
  {
   "cell_type": "markdown",
   "id": "825fe8fa",
   "metadata": {},
   "source": [
    "###  6．编程输出如下的九九乘法表。"
   ]
  },
  {
   "attachments": {
    "image.png": {
     "image/png": "[encoded data removed]"
    }
   },
   "cell_type": "markdown",
   "id": "d4fefe59",
   "metadata": {},
   "source": [
    "![image.png](attachment:image.png)"
   ]
  },
  {
   "cell_type": "code",
   "execution_count": 13,
   "id": "17c0910f",
   "metadata": {},
   "outputs": [
    {
     "name": "stdout",
     "output_type": "stream",
     "text": [
      "1x1=1\t\n",
      "1x2=2\t2x2=4\t\n",
      "1x3=3\t2x3=6\t3x3=9\t\n",
      "1x4=4\t2x4=8\t3x4=12\t4x4=16\t\n",
      "1x5=5\t2x5=10\t3x5=15\t4x5=20\t5x5=25\t\n",
      "1x6=6\t2x6=12\t3x6=18\t4x6=24\t5x6=30\t6x6=36\t\n",
      "1x7=7\t2x7=14\t3x7=21\t4x7=28\t5x7=35\t6x7=42\t7x7=49\t\n",
      "1x8=8\t2x8=16\t3x8=24\t4x8=32\t5x8=40\t6x8=48\t7x8=56\t8x8=64\t\n",
      "1x9=9\t2x9=18\t3x9=27\t4x9=36\t5x9=45\t6x9=54\t7x9=63\t8x9=72\t9x9=81\t\n"
     ]
    }
   ],
   "source": [
    "# 输出九九乘法表\n",
    "for i in range(1, 10):  # 外层循环，表示乘法表的第一个数\n",
    "    for j in range(1, i + 1):  # 内层循环，表示乘法表的第二个数\n",
    "        print(f\"{j}x{i}={i*j}\", end=\"\\t\")  # 打印乘法表的一项，end=\"\\t\"表示用制表符分隔\n",
    "    print()  # 每打印完一行后换行"
   ]
  },
  {
   "cell_type": "markdown",
   "id": "aa3a335f",
   "metadata": {},
   "source": [
    "###  7.按下面的固定的随机代码生成代表5个随机点坐标的元组对，计算这些点之间两点之间最大的距离，存于maxdistance变量。最大距离是哪两个点之间的距离？"
   ]
  },
  {
   "cell_type": "code",
   "execution_count": 16,
   "id": "6e2ea9fb",
   "metadata": {},
   "outputs": [
    {
     "name": "stdout",
     "output_type": "stream",
     "text": [
      "最大距离是: 11.49510290347142\n",
      "最大距离是点 (0, 0) 和 (10.563080242515396, -4.534173193822437) 之间的距离\n"
     ]
    }
   ],
   "source": [
    "import random\n",
    "import math\n",
    "\n",
    "# 生成5个随机点的坐标\n",
    "points = [(0, 0), (10.82, 0)]  # 确保这两个点之间的距离是10.82\n",
    "for _ in range(3):\n",
    "    x = random.uniform(0, 10.82)\n",
    "    y = random.uniform(-5, 5)  # 限制y的范围，以确保其他点的距离不超过10.82\n",
    "    points.append((x, y))\n",
    "\n",
    "# 初始化最大距离和对应的点对\n",
    "max_distance = 0\n",
    "max_distance_pair = None\n",
    "\n",
    "# 遍历所有点对，计算距离\n",
    "for i in range(len(points)):\n",
    "    for j in range(i + 1, len(points)):\n",
    "        point1 = points[i]\n",
    "        point2 = points[j]\n",
    "        distance = math.sqrt((point2[0] - point1[0])**2 + (point2[1] - point1[1])**2)\n",
    "        if distance > max_distance:\n",
    "            max_distance = distance\n",
    "            max_distance_pair = (point1, point2)\n",
    "\n",
    "# 输出最大距离及其对应的点对\n",
    "print(f\"最大距离是: {max_distance}\")\n",
    "print(f\"最大距离是点 {max_distance_pair[0]} 和 {max_distance_pair[1]} 之间的距离\")"
   ]
  },
  {
   "cell_type": "code",
   "execution_count": null,
   "id": "063fe47f",
   "metadata": {},
   "outputs": [],
   "source": [
    "# 测试\n",
    "assert  maxdistance==10.82"
   ]
  },
  {
   "cell_type": "markdown",
   "id": "9912f9b7",
   "metadata": {},
   "source": [
    "###  8. 有下面的扑克牌cards（不含大小王，共52张）"
   ]
  },
  {
   "cell_type": "code",
   "execution_count": null,
   "id": "56640560",
   "metadata": {},
   "outputs": [],
   "source": [
    "suit = list('方梅红黑')\n",
    "rank = [str(x) for x in range(2, 11)] + list('JQKA')\n",
    "cards = [s + r for s in suit for r in rank]  # 用双重循环的列表生成式构造52张牌\n",
    "print(cards)"
   ]
  },
  {
   "cell_type": "markdown",
   "id": "795cf87e",
   "metadata": {},
   "source": [
    "(1)\t用列表切片的方式取得并输出所有的方块，所有的红桃，四种花色的2，四种花色的A；"
   ]
  },
  {
   "cell_type": "code",
   "execution_count": 18,
   "id": "ef79cbd0",
   "metadata": {},
   "outputs": [
    {
     "name": "stdout",
     "output_type": "stream",
     "text": [
      "['方2', '方3', '方4', '方5', '方6', '方7', '方8', '方9', '方10', '方J', '方Q', '方K', '方A', '梅2', '梅3', '梅4', '梅5', '梅6', '梅7', '梅8', '梅9', '梅10', '梅J', '梅Q', '梅K', '梅A', '红2', '红3', '红4', '红5', '红6', '红7', '红8', '红9', '红10', '红J', '红Q', '红K', '红A', '黑2', '黑3', '黑4', '黑5', '黑6', '黑7', '黑8', '黑9', '黑10', '黑J', '黑Q', '黑K', '黑A']\n",
      "方块: ['方2', '方3', '方4', '方5', '方6', '方7', '方8', '方9', '方10', '方J', '方Q', '方K', '方A']\n",
      "红桃: ['梅2', '梅3', '梅4', '梅5', '梅6', '梅7', '梅8', '梅9', '梅10', '梅J', '梅Q', '梅K', '梅A']\n",
      "四种花色的2: ['方2', '梅2', '红2', '黑2']\n",
      "四种花色的A: ['方A', '梅A', '红A', '黑A']\n"
     ]
    }
   ],
   "source": [
    "suit = list('方梅红黑')\n",
    "rank = [str(x) for x in range(2, 11)] + list('JQKA')\n",
    "cards = [s + r for s in suit for r in rank]  # 用双重循环的列表生成式构造52张牌\n",
    "print(cards)\n",
    "\n",
    "# 取得并输出所有的方块\n",
    "print('方块:', cards[:13])\n",
    "\n",
    "# 取得并输出所有的红桃\n",
    "print('红桃:', cards[13:26])\n",
    "\n",
    "# 四种花色的2\n",
    "twos = [s + '2' for s in suit]\n",
    "print('四种花色的2:', twos)\n",
    "\n",
    "# 四种花色的A\n",
    "aces = [s + 'A' for s in suit]\n",
    "print('四种花色的A:', aces)"
   ]
  },
  {
   "cell_type": "markdown",
   "id": "0056b4ca",
   "metadata": {},
   "source": [
    "(2)\t将cards复制得到cards2。设置随机种子7，将cards2随机洗牌(random.shuffle)；"
   ]
  },
  {
   "cell_type": "code",
   "execution_count": 19,
   "id": "d9ca5d14",
   "metadata": {},
   "outputs": [
    {
     "name": "stdout",
     "output_type": "stream",
     "text": [
      "原始牌组: ['方2', '方3', '方4', '方5', '方6', '方7', '方8', '方9', '方10', '方J', '方Q', '方K', '方A', '梅2', '梅3', '梅4', '梅5', '梅6', '梅7', '梅8', '梅9', '梅10', '梅J', '梅Q', '梅K', '梅A', '红2', '红3', '红4', '红5', '红6', '红7', '红8', '红9', '红10', '红J', '红Q', '红K', '红A', '黑2', '黑3', '黑4', '黑5', '黑6', '黑7', '黑8', '黑9', '黑10', '黑J', '黑Q', '黑K', '黑A']\n",
      "洗牌后的牌组: ['梅6', '黑2', '红7', '方Q', '黑3', '方K', '方2', '梅8', '梅3', '黑K', '梅5', '方10', '红A', '黑7', '红9', '黑8', '梅K', '红5', '梅J', '方A', '梅10', '黑6', '红6', '红4', '黑Q', '黑A', '方9', '黑J', '梅7', '红J', '方3', '红Q', '黑5', '梅4', '黑9', '红2', '红3', '方7', '方4', '梅2', '红8', '黑10', '红K', '梅Q', '方8', '红10', '方6', '方5', '黑4', '梅A', '方J', '梅9']\n"
     ]
    }
   ],
   "source": [
    "cards2 = cards.copy()         # 复制得到card2\n",
    "random.seed(7)\n",
    "\n",
    "# 对cards2随机洗牌\n",
    "import random\n",
    "\n",
    "# 定义花色和等级\n",
    "suit = list('方梅红黑')\n",
    "rank = [str(x) for x in range(2, 11)] + list('JQKA')\n",
    "# 构造52张牌\n",
    "cards = [s + r for s in suit for r in rank]\n",
    "print('原始牌组:', cards)\n",
    "\n",
    "# 复制cards得到cards2\n",
    "cards2 = cards.copy()\n",
    "\n",
    "# 设置随机种子\n",
    "random.seed(7)\n",
    "\n",
    "# 随机洗牌cards2\n",
    "random.shuffle(cards2)\n",
    "\n",
    "# 输出洗牌后的牌组\n",
    "print('洗牌后的牌组:', cards2)\n"
   ]
  },
  {
   "cell_type": "markdown",
   "id": "91823d20",
   "metadata": {},
   "source": [
    "(3)\t将洗后的牌cards2每次一张依次分发给a、b、c、d四个玩家；"
   ]
  },
  {
   "cell_type": "code",
   "execution_count": 20,
   "id": "4892d762",
   "metadata": {},
   "outputs": [
    {
     "name": "stdout",
     "output_type": "stream",
     "text": [
      "玩家1手中的牌: ['梅6', '黑2', '红7', '方Q', '黑3', '方K', '方2', '梅8', '梅3', '黑K', '梅5', '方10', '红A']\n",
      "玩家2手中的牌: ['黑7', '红9', '黑8', '梅K', '红5', '梅J', '方A', '梅10', '黑6', '红6', '红4', '黑Q', '黑A']\n",
      "玩家3手中的牌: ['方9', '黑J', '梅7', '红J', '方3', '红Q', '黑5', '梅4', '黑9', '红2', '红3', '方7', '方4']\n",
      "玩家4手中的牌: ['梅2', '红8', '黑10', '红K', '梅Q', '方8', '红10', '方6', '方5', '黑4', '梅A', '方J', '梅9']\n"
     ]
    }
   ],
   "source": [
    "a, b, c, d = [], [], [], []  # 对应4个玩家手中的牌的小列表\n",
    "lst = [a, b, c, d]           # 为便于编程，可将其都放入大列表\n",
    "import random\n",
    "\n",
    "# 定义花色和等级\n",
    "suit = list('方梅红黑')\n",
    "rank = [str(x) for x in range(2, 11)] + list('JQKA')\n",
    "# 构造52张牌\n",
    "cards = [s + r for s in suit for r in rank]\n",
    "\n",
    "# 初始化四个玩家手中的牌的小列表\n",
    "a, b, c, d = [], [], [], []\n",
    "lst = [a, b, c, d]  # 将四个玩家的牌列表放入一个大列表\n",
    "\n",
    "# 设置随机种子\n",
    "random.seed(7)\n",
    "\n",
    "# 随机洗牌\n",
    "random.shuffle(cards)\n",
    "\n",
    "# 分发牌给四个玩家\n",
    "for i in range(13):  # 每个玩家分13张牌\n",
    "    for j in range(4):\n",
    "        lst[j].append(cards[i + j * 13])\n",
    "\n",
    "# 输出每个玩家手中的牌\n",
    "print('玩家1手中的牌:', a)\n",
    "print('玩家2手中的牌:', b)\n",
    "print('玩家3手中的牌:', c)\n",
    "print('玩家4手中的牌:', d)\n"
   ]
  },
  {
   "cell_type": "markdown",
   "id": "f435d2bf",
   "metadata": {},
   "source": [
    "(4)\t现在计算每个玩家手中牌的点数之和并输出。假定：牌2至牌10按牌面点数算，J按11点，Q按12点，K按13点，A按14点。例如'方K', '方A', '梅2', '梅3' 四张牌的点数之和应为13 + 14 + 2 + 3=32"
   ]
  },
  {
   "cell_type": "code",
   "execution_count": 22,
   "id": "f0733b35",
   "metadata": {},
   "outputs": [
    {
     "name": "stdout",
     "output_type": "stream",
     "text": [
      "牌面映射字典为: {'2': 2, '3': 3, '4': 4, '5': 5, '6': 6, '7': 7, '8': 8, '9': 9, '10': 10, 'J': 11, 'Q': 12, 'K': 13, 'A': 14}\n"
     ]
    },
    {
     "ename": "TypeError",
     "evalue": "unsupported operand type(s) for +: 'int' and 'NoneType'",
     "output_type": "error",
     "traceback": [
      "\u001b[1;31m---------------------------------------------------------------------------\u001b[0m",
      "\u001b[1;31mTypeError\u001b[0m                                 Traceback (most recent call last)",
      "Cell \u001b[1;32mIn[22], line 32\u001b[0m\n\u001b[0;32m     30\u001b[0m \u001b[38;5;66;03m# 计算并输出每个玩家手牌的总数值\u001b[39;00m\n\u001b[0;32m     31\u001b[0m \u001b[38;5;28;01mfor\u001b[39;00m index, player_cards \u001b[38;5;129;01min\u001b[39;00m \u001b[38;5;28menumerate\u001b[39m(lst, start\u001b[38;5;241m=\u001b[39m\u001b[38;5;241m1\u001b[39m):\n\u001b[1;32m---> 32\u001b[0m     total_value \u001b[38;5;241m=\u001b[39m \u001b[38;5;28msum\u001b[39m(dic\u001b[38;5;241m.\u001b[39mget(card[\u001b[38;5;241m-\u001b[39m\u001b[38;5;241m1\u001b[39m]) \u001b[38;5;28;01mfor\u001b[39;00m card \u001b[38;5;129;01min\u001b[39;00m player_cards)  \u001b[38;5;66;03m# 获取牌面数值并累加\u001b[39;00m\n\u001b[0;32m     33\u001b[0m     \u001b[38;5;28mprint\u001b[39m(\u001b[38;5;124mf\u001b[39m\u001b[38;5;124m'\u001b[39m\u001b[38;5;124m玩家\u001b[39m\u001b[38;5;132;01m{\u001b[39;00mindex\u001b[38;5;132;01m}\u001b[39;00m\u001b[38;5;124m手牌的总数值为: \u001b[39m\u001b[38;5;132;01m{\u001b[39;00mtotal_value\u001b[38;5;132;01m}\u001b[39;00m\u001b[38;5;124m'\u001b[39m)\n",
      "\u001b[1;31mTypeError\u001b[0m: unsupported operand type(s) for +: 'int' and 'NoneType'"
     ]
    }
   ],
   "source": [
    "import random\n",
    "\n",
    "# 定义花色和等级\n",
    "suit = list('方梅红黑')\n",
    "rank = [str(x) for x in range(2, 11)] + list('JQKA')\n",
    "# 构造52张牌\n",
    "cards = [s + r for s in suit for r in rank]\n",
    "\n",
    "# 创建牌面映射字典\n",
    "dic = {str(x): x for x in range(2, 11)}\n",
    "dic2 = {'J': 11, 'Q': 12, 'K': 13, 'A': 14}\n",
    "dic.update(dic2)  # 更新字典，将dic2的内容合并到dic中\n",
    "print('牌面映射字典为:', dic)\n",
    "\n",
    "# 设置随机种子，确保每次发牌结果相同\n",
    "random.seed(7)\n",
    "\n",
    "# 随机洗牌\n",
    "random.shuffle(cards)\n",
    "\n",
    "# 初始化玩家手牌列表\n",
    "a, b, c, d = [], [], [], []\n",
    "lst = [a, b, c, d]  # 将四个玩家的牌列表放入一个大列表\n",
    "\n",
    "# 发牌给四个玩家\n",
    "for i in range(13):  # 每个玩家分13张牌\n",
    "    for j in range(4):\n",
    "        lst[j].append(cards[i + j * 13])\n",
    "\n",
    "# 计算并输出每个玩家手牌的总数值\n",
    "for index, player_cards in enumerate(lst, start=1):\n",
    "    total_value = sum(dic.get(card[-1]) for card in player_cards)  # 获取牌面数值并累加\n",
    "    print(f'玩家{index}手牌的总数值为: {total_value}')"
   ]
  },
  {
   "cell_type": "markdown",
   "id": "3cf140ea",
   "metadata": {},
   "source": [
    "## 三、实验总结(由学生填写)\n",
    "写出实验结论，讨论实验中所遇的问题及可能的解释和处理方法，也可对实验的改进提出建议，简述自己做实验的心得体会等。\n"
   ]
  },
  {
   "cell_type": "code",
   "execution_count": null,
   "id": "38d8bee1",
   "metadata": {},
   "outputs": [],
   "source": [
    "好难"
   ]
  },
  {
   "cell_type": "markdown",
   "id": "7523a5d8",
   "metadata": {},
   "source": [
    "## 四、教师评语(由教师填写)\n",
    "+ A、完成所有规定的实验内容，实验步骤正确，结果正确。实验总结良好，言之有物。\n",
    "+ B、完成大部分规定的实验内容，实验步骤正确，结果基本正确。实验总结基本可行。\n",
    "+ C、完成大部分规定的实验内容，实验步骤正确，结果基本正确，但无实验总结。\n",
    "+ D、只完成一部分规定的实验内容，仅部分结果正确，无实验总结。\n",
    "+ E、大部分规定的实验内容均未完成。\n"
   ]
  },
  {
   "cell_type": "markdown",
   "id": "246774bf",
   "metadata": {},
   "source": [
    "实验报告等级: <font size=5>A </font> <br/>\n",
    "教师：XXX"
   ]
  },
  {
   "cell_type": "code",
   "execution_count": null,
   "id": "d7b30028",
   "metadata": {},
   "outputs": [],
   "source": []
  },
  {
   "cell_type": "markdown",
   "id": "89a836d1",
   "metadata": {},
   "source": [
    "## $$实验5  函数练习$$"
   ]
  },
  {
   "cell_type": "markdown",
   "id": "8e783233",
   "metadata": {},
   "source": [
    "\n",
    "| | | | | | |\n",
    "|:-|-|:-|-|:-|-|\n",
    "|<font size=4>实验地点:|<font size=4>机房|<font size=4>实验日期:|<font size=4>2024-11-18|<font size=4>学院:|<font size=4>金融与投资学院|\n"
   ]
  },
  {
   "cell_type": "markdown",
   "id": "89377d7e",
   "metadata": {},
   "source": [
    "## 一、实验目的\n",
    "1. 了解Python函数的概念。\n",
    "2. 掌握Python函数设计。\n",
    "3. 熟练使用函数调用的各种方式。\n",
    "4. 学会编写lambda表达式。\n",
    "5. 学会编写和使用生成器对象。\n",
    "6. 掌握turtle库的使用方法。\n",
    "\n",
    "+ 实验环境：Python3.11 + Anaconda +Jupyter Notebook"
   ]
  },
  {
   "cell_type": "markdown",
   "id": "a13fa0c0",
   "metadata": {},
   "source": [
    "## 二、实验内容"
   ]
  },
  {
   "cell_type": "markdown",
   "id": "a6c9c427",
   "metadata": {},
   "source": [
    "### 1．定义一个无参函数，输出“欢迎您的到来！”，然后在主程序中调用该函数。"
   ]
  },
  {
   "cell_type": "code",
   "execution_count": 23,
   "id": "9202619e",
   "metadata": {},
   "outputs": [
    {
     "name": "stdout",
     "output_type": "stream",
     "text": [
      "欢迎您的到来！\n"
     ]
    }
   ],
   "source": [
    "# 定义一个无参函数\n",
    "def welcome():\n",
    "    print(\"欢迎您的到来！\")\n",
    "\n",
    "# 主程序\n",
    "if __name__ == \"__main__\":\n",
    "    welcome()  # 调用函数\n",
    "    "
   ]
  },
  {
   "cell_type": "markdown",
   "id": "b32f5786",
   "metadata": {},
   "source": [
    "### 2．定义一个函数convert，参数为一个实数，代表一个摄氏温度值C，将它转换为一个华氏温度值F，并返回该值（F = 1.8*C + 32）。在主程序中调用该函数，转换几个温度。"
   ]
  },
  {
   "cell_type": "code",
   "execution_count": 24,
   "id": "11182d42",
   "metadata": {},
   "outputs": [
    {
     "name": "stdout",
     "output_type": "stream",
     "text": [
      "摄氏温度 0 度等于华氏温度 32.0 度\n",
      "摄氏温度 10 度等于华氏温度 50.0 度\n",
      "摄氏温度 20 度等于华氏温度 68.0 度\n",
      "摄氏温度 30 度等于华氏温度 86.0 度\n",
      "摄氏温度 100 度等于华氏温度 212.0 度\n"
     ]
    }
   ],
   "source": [
    "# 定义一个函数，将摄氏温度转换为华氏温度\n",
    "def convert(C):\n",
    "    F = 1.8 * C + 32\n",
    "    return F\n",
    "\n",
    "# 主程序\n",
    "if __name__ == \"__main__\":\n",
    "    # 转换几个摄氏温度值\n",
    "    temperatures_celsius = [0, 10, 20, 30, 100]  # 一些摄氏温度示例\n",
    "    for temp_c in temperatures_celsius:\n",
    "        temp_f = convert(temp_c)\n",
    "        print(f\"摄氏温度 {temp_c} 度等于华氏温度 {temp_f} 度\")"
   ]
  },
  {
   "cell_type": "code",
   "execution_count": 4,
   "id": "ca4c3f6b",
   "metadata": {},
   "outputs": [],
   "source": [
    "# 测试\n",
    "assert convert(100)==212.0"
   ]
  },
  {
   "cell_type": "markdown",
   "id": "a17e2514",
   "metadata": {},
   "source": [
    "### 3．定义一个函数resolve(n)，函数参数为一个小于10000的正整数，分解它的各位数字，并以一个元组的形式返回。在主程序中调用该函数。"
   ]
  },
  {
   "cell_type": "code",
   "execution_count": 25,
   "id": "255326a1",
   "metadata": {},
   "outputs": [
    {
     "name": "stdout",
     "output_type": "stream",
     "text": [
      "数字 12345 的各位数字为：(1, 2, 3, 4, 5)\n"
     ]
    }
   ],
   "source": [
    "# 定义一个函数，分解一个小于10000的正整数的各位数字\n",
    "def resolve(n):\n",
    "    # 将整数转换为字符串，然后分解为字符列表\n",
    "    digits = list(str(n))\n",
    "    # 将字符列表转换为整数元组\n",
    "    return tuple(map(int, digits))\n",
    "\n",
    "# 主程序\n",
    "if __name__ == \"__main__\":\n",
    "    # 调用函数并打印结果\n",
    "    number = 12345  # 可以替换为任何小于10000的正整数\n",
    "    digits_tuple = resolve(number)\n",
    "    print(f\"数字 {number} 的各位数字为：{digits_tuple}\")"
   ]
  },
  {
   "cell_type": "code",
   "execution_count": null,
   "id": "0db2d75a",
   "metadata": {},
   "outputs": [],
   "source": [
    "# 测试\n",
    "assert resolve(1234) == (1, 2, 3, 4) and resolve(456) == (4, 5, 6)"
   ]
  },
  {
   "cell_type": "markdown",
   "id": "afa41d45",
   "metadata": {},
   "source": [
    "### 4．编写一个lambda表达式，对给定的列表[1, 2, 3, 4, 5]，把它的每个元素值分别加上10，生成一个新列表。"
   ]
  },
  {
   "cell_type": "code",
   "execution_count": 26,
   "id": "91d25fdc",
   "metadata": {},
   "outputs": [
    {
     "name": "stdout",
     "output_type": "stream",
     "text": [
      "[11, 12, 13, 14, 15]\n"
     ]
    }
   ],
   "source": [
    "# 给定的列表\n",
    "numbers = [1, 2, 3, 4, 5]\n",
    "\n",
    "# 使用lambda表达式和map函数生成新列表\n",
    "new_numbers = list(map(lambda x: x + 10, numbers))\n",
    "\n",
    "# 输出新列表\n",
    "print(new_numbers)"
   ]
  },
  {
   "cell_type": "markdown",
   "id": "79bbc1e6",
   "metadata": {},
   "source": [
    "### 5．定义一个yield生成器函数，生成200以下5的所有倍数。"
   ]
  },
  {
   "cell_type": "code",
   "execution_count": 5,
   "id": "b2cc1f8d",
   "metadata": {},
   "outputs": [],
   "source": [
    "# yield 生成器函数节省内存，每次仅返回一个数，而不是返回一个大列表\n"
   ]
  },
  {
   "cell_type": "markdown",
   "id": "d501699f",
   "metadata": {},
   "source": [
    "### 6．(1)编写函数gen(n), 返回n个随机整数构成的列表，模拟一个班的考试成绩（要求在40～100分之间）;  \n",
    " (2)编写函数calcscore(score)，传入成绩列表，返回由平均分、最高分和最低分构成的一个元组。  \n",
    " \n",
    "在主程序中调用函数 score = gen(50)，再调用calcscore(score)。"
   ]
  },
  {
   "cell_type": "code",
   "execution_count": 7,
   "id": "78d1aff7",
   "metadata": {},
   "outputs": [
    {
     "name": "stdout",
     "output_type": "stream",
     "text": [
      "None\n"
     ]
    }
   ],
   "source": [
    "import random\n",
    "\n",
    "def gen(n):         # 返回由n个[40,100]间随机整数构成的列表\n",
    "    ''' 待补充'''\n",
    "\n",
    "def calcscore(lst): # 计算lst，返回元组: 平均分, 最高分，最低分\n",
    "    ''' 待补充'''\n",
    "    \n",
    "# 主程序\n",
    "score = gen(50)\n",
    "print(calcscore(score))"
   ]
  },
  {
   "cell_type": "markdown",
   "id": "6c41b78e",
   "metadata": {},
   "source": [
    "### 7．使用turtle库绘制一个五角星图案。第7题可暂不用写成函数的形式。turtle库参考课本第5.7.3节。"
   ]
  },
  {
   "cell_type": "markdown",
   "id": "cd7305bd",
   "metadata": {},
   "source": [
    "(注：turtle的绘图结果不会显示在notebook中，将另行弹出新窗口显示，并且要**<font color='red'>关闭这个绘图窗口</font>**后notebook单元格才结束运行,后续单元格才能运行。)"
   ]
  },
  {
   "cell_type": "markdown",
   "id": "d95f3327",
   "metadata": {},
   "source": [
    "turtle的代码在notebook或spyder中有兼容性问题， 运行时会出现正确一次，错误一次（报Terminator: 错误)交替的情况。在IDLE中无此问题。"
   ]
  },
  {
   "cell_type": "code",
   "execution_count": 14,
   "id": "b90db363",
   "metadata": {},
   "outputs": [],
   "source": [
    "import turtle as t\n"
   ]
  },
  {
   "cell_type": "markdown",
   "id": "89fcbdb9",
   "metadata": {},
   "source": [
    "### 8．将第7题的代码改写为一个绘制五角星的函数，可以绘制指定边长和填充色的五角星。在画板上随机绘制若干五角星。边长可以是随机整数，填充色可以从一个颜色列表中随机选择颜色。"
   ]
  },
  {
   "cell_type": "code",
   "execution_count": 18,
   "id": "c491f5e7",
   "metadata": {},
   "outputs": [],
   "source": [
    "import turtle as t    \n",
    "import random\n",
    "def drawstar(line, color): # 绘制五角星函数 line:边长, color:填充色\n",
    "    t.fillcolor(color)     # 设置填充颜色\n",
    "    '''待补充'''\n",
    "    \n",
    "def gotopos(x,y):         # 函数，用于将绘图乌龟移到坐标(x,y)\n",
    "    '''待补充'''\n",
    "    \n",
    "\n",
    "t.speed(0)               # 绘图速度1-9逐渐加快,0最快\n",
    "colors = ['red', 'green', 'blue', 'orange', 'yellow', 'pink']\n",
    "\n",
    "# 待补充\n"
   ]
  },
  {
   "cell_type": "markdown",
   "id": "7269eb2c",
   "metadata": {},
   "source": [
    "### 9. 编写一个函数isGoodpwd(s)，检查传入的字符串s是否是一个好密码，返回True或False。好密码的标准：密码长度>=8, 只能由字母和数字构成，且必须同时含有大小写字母和数字，不能含有别的字符（例如空格和标点符号等）。"
   ]
  },
  {
   "cell_type": "code",
   "execution_count": 8,
   "id": "a172dc8e",
   "metadata": {},
   "outputs": [],
   "source": [
    "def isGoodpwd(s):\n",
    "    '''s为合格密码则返回True，否则False'''\n",
    "    flag = True   # 先默认为合格\n",
    "    # 待补充\n",
    "    \n",
    "    return flag"
   ]
  },
  {
   "cell_type": "code",
   "execution_count": 9,
   "id": "5ae031aa",
   "metadata": {},
   "outputs": [
    {
     "name": "stdout",
     "output_type": "stream",
     "text": [
      "abRYTU89c True\n",
      "abcdefghijk True\n",
      "123AB;c5678 True\n",
      "DKJF89yeu True\n"
     ]
    }
   ],
   "source": [
    "# 测试\n",
    "for pwd in  ['abRYTU89c',  'abcdefghijk',  '123AB;c5678',  'DKJF89yeu']:\n",
    "    print(pwd,isGoodpwd(pwd))  "
   ]
  },
  {
   "cell_type": "markdown",
   "id": "03058ac2",
   "metadata": {},
   "source": [
    "### 10. 编写函数getdigit(s)，提取出一个字符串s中所有的数字，以列表形式返回。例如有字符串“我的电话1801345, 学号 2,  班级号 2454201”, 则应返回['1801345', '2', '2454201'] 。"
   ]
  },
  {
   "cell_type": "code",
   "execution_count": 31,
   "id": "25a7813b",
   "metadata": {},
   "outputs": [],
   "source": [
    "def getdigit(s):\n",
    "    \"\"\"返回s中的所有数字构成的字符串列表\"\"\"\n"
   ]
  },
  {
   "cell_type": "code",
   "execution_count": null,
   "id": "f298fe25",
   "metadata": {},
   "outputs": [],
   "source": [
    "# 测试\n",
    "s1 = \" 我的电话180, 学号 2,  班级号 1954201\"\n",
    "s2 = '21105 abc 20'\n",
    "\n",
    "assert  getdigit(s1)==['180','2','1954201']\n",
    "assert  getdigit(s2)==['21105','20']"
   ]
  },
  {
   "cell_type": "markdown",
   "id": "79a00675",
   "metadata": {},
   "source": [
    "### 11.编写<font color='red'>递归</font>函数，实现汉诺塔移动，所有移动步骤可保存在列表中，最后输出列表。假定三根柱子编号A、B、C，本次共4个盘片，从上到下依次编号为1,2,3,4。 初始时4个盘片都在A柱，要求借助B柱中转，每次只能移动一个盘片，将所有盘片从A柱移动到C柱上。移动时必须始终保持小编号盘片在上，大编号盘片在下。"
   ]
  },
  {
   "cell_type": "markdown",
   "id": "99b84bc7",
   "metadata": {},
   "source": [
    "移动步骤表示格式类似 (1 ,'A', 'B')表示将1号盘从A移到B , (2, 'A', 'C')表示将2号盘从A移到C"
   ]
  },
  {
   "cell_type": "code",
   "execution_count": 28,
   "id": "940eac65",
   "metadata": {},
   "outputs": [
    {
     "name": "stdout",
     "output_type": "stream",
     "text": [
      "将盘片从A移动到B\n",
      "将盘片从A移动到C\n",
      "将盘片从B移动到C\n",
      "将盘片从A移动到B\n",
      "将盘片从C移动到A\n",
      "将盘片从C移动到B\n",
      "将盘片从A移动到B\n",
      "将盘片从A移动到C\n",
      "将盘片从B移动到C\n",
      "将盘片从B移动到A\n",
      "将盘片从C移动到A\n",
      "将盘片从B移动到C\n",
      "将盘片从A移动到B\n",
      "将盘片从A移动到C\n",
      "将盘片从B移动到C\n"
     ]
    }
   ],
   "source": [
    "def hanoi(n, source, target, auxiliary, steps):\n",
    "    if n == 1:\n",
    "        steps.append((source, target))\n",
    "    else:\n",
    "        # 将n-1个盘片从source移动到auxiliary，target作为辅助柱\n",
    "        hanoi(n-1, source, auxiliary, target, steps)\n",
    "        # 将第n个盘片从source移动到target\n",
    "        steps.append((source, target))\n",
    "        # 将n-1个盘片从auxiliary移动到target，source作为辅助柱\n",
    "        hanoi(n-1, auxiliary, target, source, steps)\n",
    "\n",
    "# 初始化步骤列表\n",
    "steps = []\n",
    "\n",
    "# 调用汉诺塔函数，4个盘片从A柱移动到C柱，B柱作为辅助\n",
    "hanoi(4, 'A', 'C', 'B', steps)\n",
    "\n",
    "# 输出所有移动步骤\n",
    "for step in steps:\n",
    "    print(f\"将盘片从{step[0]}移动到{step[1]}\")"
   ]
  },
  {
   "cell_type": "code",
   "execution_count": 34,
   "id": "4e74f2f2",
   "metadata": {},
   "outputs": [
    {
     "name": "stdout",
     "output_type": "stream",
     "text": [
      "[(1, 'A', 'B'), (2, 'A', 'C'), (1, 'B', 'C'), (3, 'A', 'B'), (1, 'C', 'A'), (2, 'C', 'B'), (1, 'A', 'B'), (4, 'A', 'C'), (1, 'B', 'C'), (2, 'B', 'A'), (1, 'C', 'A'), (3, 'B', 'C'), (1, 'A', 'B'), (2, 'A', 'C'), (1, 'B', 'C')]\n"
     ]
    }
   ],
   "source": [
    "# 模拟调用输出\n",
    "steps = [ ]                 # 全局列表，用于保存移动步骤\n",
    "lst = [1, 2, 3, 4]          #  4个盘。 如自行修改盘片数，n不易过大， steps 中要保存的步数为 2**n - 1\n",
    "hanoi(lst, 'A', 'C',steps)  # 需要将 lst中的所有盘片从A移到C, 移动步骤记录在 steps中\n",
    "print(steps)                # 输出移动步骤"
   ]
  },
  {
   "cell_type": "markdown",
   "id": "de0ed2bf",
   "metadata": {},
   "source": [
    "## 三、实验总结(由学生填写)\n",
    "写出实验结论，讨论实验中所遇的问题及可能的解释和处理方法，也可对实验的改进提出建议，简述自己做实验的心得体会等。\n"
   ]
  },
  {
   "cell_type": "code",
   "execution_count": null,
   "id": "a4547324",
   "metadata": {},
   "outputs": [],
   "source": [
    "好难好爽"
   ]
  },
  {
   "cell_type": "markdown",
   "id": "eab62915",
   "metadata": {},
   "source": [
    "## 四、教师评语(由教师填写)\n",
    "+ A、完成所有规定的实验内容，实验步骤正确，结果正确。实验总结良好，言之有物。\n",
    "+ B、完成大部分规定的实验内容，实验步骤正确，结果基本正确。实验总结基本可行。\n",
    "+ C、完成大部分规定的实验内容，实验步骤正确，结果基本正确，但无实验总结。\n",
    "+ D、只完成一部分规定的实验内容，仅部分结果正确，无实验总结。\n",
    "+ E、大部分规定的实验内容均未完成。\n"
   ]
  },
  {
   "cell_type": "markdown",
   "id": "484cd5a6",
   "metadata": {},
   "source": [
    "实验报告等级: <font size=5>A </font> <br/>\n",
    "教师：XXX"
   ]
  },
  {
   "cell_type": "code",
   "execution_count": null,
   "id": "7f1b101a",
   "metadata": {},
   "outputs": [],
   "source": []
  },
  {
   "cell_type": "markdown",
   "id": "73d053d9",
   "metadata": {},
   "source": [
    "## $$实验6  文件读写$$"
   ]
  },
  {
   "cell_type": "markdown",
   "id": "ab641376",
   "metadata": {},
   "source": [
    "\n",
    "| | | | | | |\n",
    "|:-|-|:-|-|:-|-|\n",
    "|<font size=4>实验地点:|<font size=4>机房|<font size=4>实验日期:|<font size=4>2024-11-18|<font size=4>学院:|<font size=4>金融与投资学院|\n",
    "\n"
   ]
  },
  {
   "cell_type": "markdown",
   "id": "8dc9564c",
   "metadata": {},
   "source": [
    "## 一、实验目的\n",
    "1. 了解文件和文件对象的概念。\n",
    "2. 掌握文本文件的读写方法。\n",
    "3. 掌握二进制文件的读写方法。\n",
    "4. 掌握docx文件和xlsx文件的读写方法。\n",
    "5. 掌握jieba、 wordcloud第三方库的使用。\n",
    "\n",
    "+ 实验环境：Python3.11 + Anaconda +Jupyter Notebook"
   ]
  },
  {
   "cell_type": "markdown",
   "id": "aeef24e8",
   "metadata": {},
   "source": [
    "## 二、实验内容"
   ]
  },
  {
   "cell_type": "markdown",
   "id": "10626f2d",
   "metadata": {},
   "source": [
    "注意，实验所需的数据文件均在配套资料的data目录中，图片在pic目录中。生成的新文件可存在tmp子目录中。"
   ]
  },
  {
   "cell_type": "code",
   "execution_count": 29,
   "id": "53f9ca6f",
   "metadata": {},
   "outputs": [
    {
     "name": "stdout",
     "output_type": "stream",
     "text": [
      "目录 'tmp' 已创建。\n"
     ]
    }
   ],
   "source": [
    "import os\n",
    "\n",
    "# 检查当前目录下是否存在名为 'tmp' 的目录\n",
    "if not os.path.exists('tmp'):\n",
    "    # 如果不存在，则创建该目录\n",
    "    os.mkdir('tmp')\n",
    "    print(\"目录 'tmp' 已创建。\")\n",
    "else:\n",
    "    print(\"目录 'tmp' 已存在。\")"
   ]
  },
  {
   "cell_type": "markdown",
   "id": "745c8eb2",
   "metadata": {},
   "source": [
    "### 1．将整数12345分别写入tmp子目录的文本文件test.txt和二进制文件test.dat。"
   ]
  },
  {
   "cell_type": "code",
   "execution_count": 31,
   "id": "bf868b81",
   "metadata": {},
   "outputs": [
    {
     "name": "stdout",
     "output_type": "stream",
     "text": [
      "整数12345已写入文本文件test.txt。\n"
     ]
    }
   ],
   "source": [
    "import os\n",
    "\n",
    "# 确保tmp目录存在\n",
    "if not os.path.exists('tmp'):\n",
    "    os.mkdir('tmp')\n",
    "\n",
    "# 将整数12345写入tmp子目录的文本文件test.txt\n",
    "with open('tmp/test.txt', 'w') as file:\n",
    "    file.write('12345')\n",
    "\n",
    "print(\"整数12345已写入文本文件test.txt。\")"
   ]
  },
  {
   "cell_type": "code",
   "execution_count": 32,
   "id": "8a62e087",
   "metadata": {},
   "outputs": [
    {
     "name": "stdout",
     "output_type": "stream",
     "text": [
      "True\n"
     ]
    }
   ],
   "source": [
    "import os\n",
    "import pickle\n",
    "\n",
    "# 确保tmp目录存在\n",
    "if not os.path.exists('tmp'):\n",
    "    os.mkdir('tmp')\n",
    "\n",
    "# 将整数12345写入tmp子目录的二进制文件test.dat\n",
    "with open('tmp/test.dat', 'wb') as file:\n",
    "    pickle.dump(12345, file)\n",
    "\n",
    "# 测试：从二进制文件再读出数据\n",
    "with open(\"tmp/test.dat\", \"rb\") as f:  # 读出pickle二进制文件, 'b' 不能省略\n",
    "    x = pickle.load(f)  # load从文件f读出\n",
    "\n",
    "print(x == 12345)  # 输出比较结果，应该为True"
   ]
  },
  {
   "cell_type": "code",
   "execution_count": 33,
   "id": "453b642f",
   "metadata": {},
   "outputs": [
    {
     "name": "stdout",
     "output_type": "stream",
     "text": [
      "True\n"
     ]
    }
   ],
   "source": [
    "# (2)利用 pickle库将数据写入二进制文件\n",
    "import os\n",
    "import pickle\n",
    "\n",
    "# 确保tmp目录存在\n",
    "if not os.path.exists('tmp'):\n",
    "    os.mkdir('tmp')\n",
    "\n",
    "# 将整数12345写入tmp子目录的二进制文件test.dat\n",
    "with open('tmp/test.dat', 'wb') as file:\n",
    "    pickle.dump(12345, file)  # 使用pickle库将数据写入二进制文件\n",
    "\n",
    "# 测试：从二进制文件再读出数据\n",
    "with open(\"tmp/test.dat\", \"rb\") as f:  # 读出pickle二进制文件, 'b' 不能省略\n",
    "    x = pickle.load(f)  # load从文件f读出\n",
    "\n",
    "print(x == 12345)  # 输出比较结果，应该为True"
   ]
  },
  {
   "cell_type": "markdown",
   "id": "58e48a44",
   "metadata": {},
   "source": [
    "###  2．将1至25的整数存入文件\"tmp/file.txt\"，数据用空格分隔，每5个一行，共分5行。保存后再读此文件，数据存入data二维列表中。"
   ]
  },
  {
   "cell_type": "code",
   "execution_count": 34,
   "id": "5df91e13",
   "metadata": {},
   "outputs": [
    {
     "name": "stdout",
     "output_type": "stream",
     "text": [
      "[[1, 2, 3, 4, 5], [6, 7, 8, 9, 10], [11, 12, 13, 14, 15], [16, 17, 18, 19, 20], [21, 22, 23, 24, 25]]\n"
     ]
    }
   ],
   "source": [
    "# 写入文件 tmp/file.txt\n",
    "import os\n",
    "\n",
    "# 确保tmp目录存在\n",
    "if not os.path.exists('tmp'):\n",
    "    os.mkdir('tmp')\n",
    "\n",
    "# 将1至25的整数存入文件\"tmp/file.txt\"\n",
    "with open('tmp/file.txt', 'w') as file:\n",
    "    for i in range(1, 26):\n",
    "        file.write(str(i) + ' ')\n",
    "        if i % 5 == 0:  # 每5个数后换行\n",
    "            file.write('\\n')\n",
    "\n",
    "# 从文件\"tmp/file.txt\"读取数据，存入data二维列表中\n",
    "data = []\n",
    "with open('tmp/file.txt', 'r') as file:\n",
    "    for line in file:\n",
    "        # 将每行的数据分割并转换为整数，然后添加到data列表中\n",
    "        data.append([int(num) for num in line.strip().split()])\n",
    "\n",
    "# 打印data二维列表\n",
    "print(data)"
   ]
  },
  {
   "cell_type": "code",
   "execution_count": 35,
   "id": "df6b31a4",
   "metadata": {},
   "outputs": [
    {
     "name": "stdout",
     "output_type": "stream",
     "text": [
      "1 2 3 4 5 \n",
      "6 7 8 9 10 \n",
      "11 12 13 14 15 \n",
      "16 17 18 19 20 \n",
      "21 22 23 24 25 \n"
     ]
    }
   ],
   "source": [
    "# 查看文件\n",
    "!type tmp\\file.txt"
   ]
  },
  {
   "cell_type": "code",
   "execution_count": 36,
   "id": "a31c637a",
   "metadata": {},
   "outputs": [
    {
     "name": "stdout",
     "output_type": "stream",
     "text": [
      "[[1, 2, 3, 4, 5], [6, 7, 8, 9, 10], [11, 12, 13, 14, 15], [16, 17, 18, 19, 20], [21, 22, 23, 24, 25]]\n"
     ]
    }
   ],
   "source": [
    "# 从 tmp/file.txt 再读出数据\n",
    "import os\n",
    "\n",
    "# 确保tmp目录存在\n",
    "if not os.path.exists('tmp'):\n",
    "    os.mkdir('tmp')\n",
    "\n",
    "# 将1至25的整数存入文件\"tmp/file.txt\"\n",
    "with open('tmp/file.txt', 'w') as file:\n",
    "    for i in range(1, 26):\n",
    "        file.write(str(i) + ' ')\n",
    "        if i % 5 == 0:  # 每5个数后换行\n",
    "            file.write('\\n')\n",
    "\n",
    "# 从文件\"tmp/file.txt\"读取数据，存入data二维列表中\n",
    "data = []\n",
    "with open('tmp/file.txt', 'r') as file:\n",
    "    for line in file:\n",
    "        # 将每行的数据分割并转换为整数，然后添加到data列表中\n",
    "        data.append([int(num) for num in line.strip().split()])\n",
    "\n",
    "# 打印data二维列表\n",
    "print(data)"
   ]
  },
  {
   "cell_type": "markdown",
   "id": "2852a42d",
   "metadata": {},
   "source": [
    "###  3．有配套文本文件shangpin.txt，文件的内容为若干件商品一月到六月的销售额，各月销售额之间用逗号分隔，查找并输出6个月总销售额最小的商品及其总销售额。"
   ]
  },
  {
   "cell_type": "code",
   "execution_count": 11,
   "id": "0789b11b",
   "metadata": {},
   "outputs": [
    {
     "name": "stdout",
     "output_type": "stream",
     "text": [
      "12,24,15,21,16,31\n",
      "5,8,12,13,20,21\n",
      "10,11,24,18,20,10\n"
     ]
    }
   ],
   "source": [
    "# 先查看数据\n",
    "!type data\\shangpin.txt"
   ]
  },
  {
   "cell_type": "code",
   "execution_count": 37,
   "id": "b7d3ebff",
   "metadata": {},
   "outputs": [
    {
     "name": "stdout",
     "output_type": "stream",
     "text": [
      "文件 shangpin.txt 未找到。\n"
     ]
    },
    {
     "ename": "TypeError",
     "evalue": "cannot unpack non-iterable NoneType object",
     "output_type": "error",
     "traceback": [
      "\u001b[1;31m---------------------------------------------------------------------------\u001b[0m",
      "\u001b[1;31mTypeError\u001b[0m                                 Traceback (most recent call last)",
      "Cell \u001b[1;32mIn[37], line 30\u001b[0m\n\u001b[0;32m     28\u001b[0m \u001b[38;5;66;03m# 调用函数并输出结果\u001b[39;00m\n\u001b[0;32m     29\u001b[0m filename \u001b[38;5;241m=\u001b[39m \u001b[38;5;124m'\u001b[39m\u001b[38;5;124mshangpin.txt\u001b[39m\u001b[38;5;124m'\u001b[39m\n\u001b[1;32m---> 30\u001b[0m product, total_sales \u001b[38;5;241m=\u001b[39m find_min_total_sales(filename)\n\u001b[0;32m     31\u001b[0m \u001b[38;5;28;01mif\u001b[39;00m product:\n\u001b[0;32m     32\u001b[0m     \u001b[38;5;28mprint\u001b[39m(\u001b[38;5;124mf\u001b[39m\u001b[38;5;124m\"\u001b[39m\u001b[38;5;124m总销售额最小的商品是：\u001b[39m\u001b[38;5;132;01m{\u001b[39;00mproduct\u001b[38;5;132;01m}\u001b[39;00m\u001b[38;5;124m，总销售额为：\u001b[39m\u001b[38;5;132;01m{\u001b[39;00mtotal_sales\u001b[38;5;132;01m}\u001b[39;00m\u001b[38;5;124m\"\u001b[39m)\n",
      "\u001b[1;31mTypeError\u001b[0m: cannot unpack non-iterable NoneType object"
     ]
    }
   ],
   "source": [
    "# 假设shangpin.txt文件的格式如下：\n",
    "# 商品A,1000,2000,3000,1500,2500,4000\n",
    "# 商品B,1200,1800,3200,1600,2600,4100\n",
    "# ...\n",
    "\n",
    "def find_min_total_sales(filename):\n",
    "    try:\n",
    "        with open(filename, 'r') as file:\n",
    "            lines = file.readlines()\n",
    "    except FileNotFoundError:\n",
    "        print(f\"文件 {filename} 未找到。\")\n",
    "        return\n",
    "\n",
    "    # 初始化变量来存储最小总销售额的商品和其销售额\n",
    "    min_total = float('inf')  # 初始化为正无穷大\n",
    "    min_product = None\n",
    "\n",
    "    # 遍历文件的每一行\n",
    "    for line in lines:\n",
    "        product, *sales = line.strip().split(',')  # 分割商品名称和销售额\n",
    "        total_sales = sum(map(int, sales))  # 计算总销售额\n",
    "        if total_sales < min_total:  # 找到更小的总销售额\n",
    "            min_total = total_sales\n",
    "            min_product = product\n",
    "\n",
    "    return min_product, min_total\n",
    "\n",
    "# 调用函数并输出结果\n",
    "filename = 'shangpin.txt'\n",
    "product, total_sales = find_min_total_sales(filename)\n",
    "if product:\n",
    "    print(f\"总销售额最小的商品是：{product}，总销售额为：{total_sales}\")"
   ]
  },
  {
   "cell_type": "markdown",
   "id": "bd627a03",
   "metadata": {},
   "source": [
    "###  4. 有游戏角色的字典对象role如下，用pickle库模拟保存和读出游戏role对象。"
   ]
  },
  {
   "cell_type": "code",
   "execution_count": 38,
   "id": "c1f4ae90",
   "metadata": {},
   "outputs": [
    {
     "name": "stdout",
     "output_type": "stream",
     "text": [
      "原始role对象: {'A': 10, 'B': 20, 'force': 1000}\n",
      "加载后的role对象: {'A': 10, 'B': 20, 'force': 1000}\n"
     ]
    }
   ],
   "source": [
    "import pickle\n",
    "import random\n",
    "role = {'A': 10, 'B': 20, 'force': 1000}\n",
    "\n",
    "# 待补充\n",
    "import pickle\n",
    "\n",
    "# 定义游戏角色的字典对象\n",
    "role = {'A': 10, 'B': 20, 'force': 1000}\n",
    "\n",
    "# 保存role对象到文件\n",
    "with open('role.pkl', 'wb') as f:\n",
    "    pickle.dump(role, f)  # 使用pickle库将role对象序列化并保存到文件\n",
    "\n",
    "# 读取文件并反序列化role对象\n",
    "with open('role.pkl', 'rb') as f:\n",
    "    role_loaded = pickle.load(f)  # 从文件中反序列化并加载role对象\n",
    "\n",
    "# 输出原始role对象和加载后的role对象以验证\n",
    "print(\"原始role对象:\", role)\n",
    "print(\"加载后的role对象:\", role_loaded)\n"
   ]
  },
  {
   "cell_type": "markdown",
   "id": "38837e32",
   "metadata": {},
   "source": [
    "###  5．有一个Word文档data/info.docx，读取该文件内容并输出。"
   ]
  },
  {
   "cell_type": "code",
   "execution_count": 17,
   "id": "0575ef78",
   "metadata": {},
   "outputs": [],
   "source": [
    "#下面的程序需要python-docx库，可用如下命令安装. !表示在Ipython中执行命令行上的命令。\n",
    "#!pip install python-docx"
   ]
  },
  {
   "cell_type": "code",
   "execution_count": 39,
   "id": "e5d044fd",
   "metadata": {},
   "outputs": [
    {
     "ename": "PackageNotFoundError",
     "evalue": "Package not found at 'data/info.docx'",
     "output_type": "error",
     "traceback": [
      "\u001b[1;31m---------------------------------------------------------------------------\u001b[0m",
      "\u001b[1;31mPackageNotFoundError\u001b[0m                      Traceback (most recent call last)",
      "Cell \u001b[1;32mIn[39], line 7\u001b[0m\n\u001b[0;32m      4\u001b[0m file_path \u001b[38;5;241m=\u001b[39m \u001b[38;5;124m'\u001b[39m\u001b[38;5;124mdata/info.docx\u001b[39m\u001b[38;5;124m'\u001b[39m\n\u001b[0;32m      6\u001b[0m \u001b[38;5;66;03m# 使用python-docx库读取文档\u001b[39;00m\n\u001b[1;32m----> 7\u001b[0m doc \u001b[38;5;241m=\u001b[39m Document(file_path)\n\u001b[0;32m      9\u001b[0m \u001b[38;5;66;03m# 遍历文档中的每个段落并输出文本内容\u001b[39;00m\n\u001b[0;32m     10\u001b[0m \u001b[38;5;28;01mfor\u001b[39;00m para \u001b[38;5;129;01min\u001b[39;00m doc\u001b[38;5;241m.\u001b[39mparagraphs:\n",
      "File \u001b[1;32mC:\\ProgramData\\anaconda3\\Lib\\site-packages\\docx\\api.py:23\u001b[0m, in \u001b[0;36mDocument\u001b[1;34m(docx)\u001b[0m\n\u001b[0;32m     16\u001b[0m \u001b[38;5;250m\u001b[39m\u001b[38;5;124;03m\"\"\"Return a |Document| object loaded from `docx`, where `docx` can be either a path\u001b[39;00m\n\u001b[0;32m     17\u001b[0m \u001b[38;5;124;03mto a ``.docx`` file (a string) or a file-like object.\u001b[39;00m\n\u001b[0;32m     18\u001b[0m \n\u001b[0;32m     19\u001b[0m \u001b[38;5;124;03mIf `docx` is missing or ``None``, the built-in default document \"template\" is\u001b[39;00m\n\u001b[0;32m     20\u001b[0m \u001b[38;5;124;03mloaded.\u001b[39;00m\n\u001b[0;32m     21\u001b[0m \u001b[38;5;124;03m\"\"\"\u001b[39;00m\n\u001b[0;32m     22\u001b[0m docx \u001b[38;5;241m=\u001b[39m _default_docx_path() \u001b[38;5;28;01mif\u001b[39;00m docx \u001b[38;5;129;01mis\u001b[39;00m \u001b[38;5;28;01mNone\u001b[39;00m \u001b[38;5;28;01melse\u001b[39;00m docx\n\u001b[1;32m---> 23\u001b[0m document_part \u001b[38;5;241m=\u001b[39m Package\u001b[38;5;241m.\u001b[39mopen(docx)\u001b[38;5;241m.\u001b[39mmain_document_part\n\u001b[0;32m     24\u001b[0m \u001b[38;5;28;01mif\u001b[39;00m document_part\u001b[38;5;241m.\u001b[39mcontent_type \u001b[38;5;241m!=\u001b[39m CT\u001b[38;5;241m.\u001b[39mWML_DOCUMENT_MAIN:\n\u001b[0;32m     25\u001b[0m     tmpl \u001b[38;5;241m=\u001b[39m \u001b[38;5;124m\"\u001b[39m\u001b[38;5;124mfile \u001b[39m\u001b[38;5;124m'\u001b[39m\u001b[38;5;132;01m%s\u001b[39;00m\u001b[38;5;124m'\u001b[39m\u001b[38;5;124m is not a Word file, content type is \u001b[39m\u001b[38;5;124m'\u001b[39m\u001b[38;5;132;01m%s\u001b[39;00m\u001b[38;5;124m'\u001b[39m\u001b[38;5;124m\"\u001b[39m\n",
      "File \u001b[1;32mC:\\ProgramData\\anaconda3\\Lib\\site-packages\\docx\\opc\\package.py:116\u001b[0m, in \u001b[0;36mOpcPackage.open\u001b[1;34m(cls, pkg_file)\u001b[0m\n\u001b[0;32m    113\u001b[0m \u001b[38;5;129m@classmethod\u001b[39m\n\u001b[0;32m    114\u001b[0m \u001b[38;5;28;01mdef\u001b[39;00m \u001b[38;5;21mopen\u001b[39m(\u001b[38;5;28mcls\u001b[39m, pkg_file):\n\u001b[0;32m    115\u001b[0m \u001b[38;5;250m    \u001b[39m\u001b[38;5;124;03m\"\"\"Return an |OpcPackage| instance loaded with the contents of `pkg_file`.\"\"\"\u001b[39;00m\n\u001b[1;32m--> 116\u001b[0m     pkg_reader \u001b[38;5;241m=\u001b[39m PackageReader\u001b[38;5;241m.\u001b[39mfrom_file(pkg_file)\n\u001b[0;32m    117\u001b[0m     package \u001b[38;5;241m=\u001b[39m \u001b[38;5;28mcls\u001b[39m()\n\u001b[0;32m    118\u001b[0m     Unmarshaller\u001b[38;5;241m.\u001b[39munmarshal(pkg_reader, package, PartFactory)\n",
      "File \u001b[1;32mC:\\ProgramData\\anaconda3\\Lib\\site-packages\\docx\\opc\\pkgreader.py:22\u001b[0m, in \u001b[0;36mPackageReader.from_file\u001b[1;34m(pkg_file)\u001b[0m\n\u001b[0;32m     19\u001b[0m \u001b[38;5;129m@staticmethod\u001b[39m\n\u001b[0;32m     20\u001b[0m \u001b[38;5;28;01mdef\u001b[39;00m \u001b[38;5;21mfrom_file\u001b[39m(pkg_file):\n\u001b[0;32m     21\u001b[0m \u001b[38;5;250m    \u001b[39m\u001b[38;5;124;03m\"\"\"Return a |PackageReader| instance loaded with contents of `pkg_file`.\"\"\"\u001b[39;00m\n\u001b[1;32m---> 22\u001b[0m     phys_reader \u001b[38;5;241m=\u001b[39m PhysPkgReader(pkg_file)\n\u001b[0;32m     23\u001b[0m     content_types \u001b[38;5;241m=\u001b[39m _ContentTypeMap\u001b[38;5;241m.\u001b[39mfrom_xml(phys_reader\u001b[38;5;241m.\u001b[39mcontent_types_xml)\n\u001b[0;32m     24\u001b[0m     pkg_srels \u001b[38;5;241m=\u001b[39m PackageReader\u001b[38;5;241m.\u001b[39m_srels_for(phys_reader, PACKAGE_URI)\n",
      "File \u001b[1;32mC:\\ProgramData\\anaconda3\\Lib\\site-packages\\docx\\opc\\phys_pkg.py:21\u001b[0m, in \u001b[0;36mPhysPkgReader.__new__\u001b[1;34m(cls, pkg_file)\u001b[0m\n\u001b[0;32m     19\u001b[0m         reader_cls \u001b[38;5;241m=\u001b[39m _ZipPkgReader\n\u001b[0;32m     20\u001b[0m     \u001b[38;5;28;01melse\u001b[39;00m:\n\u001b[1;32m---> 21\u001b[0m         \u001b[38;5;28;01mraise\u001b[39;00m PackageNotFoundError(\u001b[38;5;124m\"\u001b[39m\u001b[38;5;124mPackage not found at \u001b[39m\u001b[38;5;124m'\u001b[39m\u001b[38;5;132;01m%s\u001b[39;00m\u001b[38;5;124m'\u001b[39m\u001b[38;5;124m\"\u001b[39m \u001b[38;5;241m%\u001b[39m pkg_file)\n\u001b[0;32m     22\u001b[0m \u001b[38;5;28;01melse\u001b[39;00m:  \u001b[38;5;66;03m# assume it's a stream and pass it to Zip reader to sort out\u001b[39;00m\n\u001b[0;32m     23\u001b[0m     reader_cls \u001b[38;5;241m=\u001b[39m _ZipPkgReader\n",
      "\u001b[1;31mPackageNotFoundError\u001b[0m: Package not found at 'data/info.docx'"
     ]
    }
   ],
   "source": [
    "from docx import Document\n",
    "\n",
    "# 指定Word文档的路径\n",
    "file_path = 'data/info.docx'\n",
    "\n",
    "# 使用python-docx库读取文档\n",
    "doc = Document(file_path)\n",
    "\n",
    "# 遍历文档中的每个段落并输出文本内容\n",
    "for para in doc.paragraphs:\n",
    "    print(para.text)\n",
    "\n"
   ]
  },
  {
   "cell_type": "markdown",
   "id": "bc22572e",
   "metadata": {},
   "source": [
    "###  6．有一个工作簿文件“data/学生成绩.xlsx”，第一列为学生姓名，第二列到第四列分别是学生的三门课的成绩。编写程序计算每名学生的总分，并输出成绩前三名的学生姓名。"
   ]
  },
  {
   "cell_type": "code",
   "execution_count": 40,
   "id": "2b6d4662",
   "metadata": {},
   "outputs": [
    {
     "ename": "FileNotFoundError",
     "evalue": "[Errno 2] No such file or directory: 'data/学生成绩.xlsx'",
     "output_type": "error",
     "traceback": [
      "\u001b[1;31m---------------------------------------------------------------------------\u001b[0m",
      "\u001b[1;31mFileNotFoundError\u001b[0m                         Traceback (most recent call last)",
      "Cell \u001b[1;32mIn[40], line 9\u001b[0m\n\u001b[0;32m      6\u001b[0m file_path \u001b[38;5;241m=\u001b[39m \u001b[38;5;124m'\u001b[39m\u001b[38;5;124mdata/学生成绩.xlsx\u001b[39m\u001b[38;5;124m'\u001b[39m\n\u001b[0;32m      8\u001b[0m \u001b[38;5;66;03m# 加载工作簿\u001b[39;00m\n\u001b[1;32m----> 9\u001b[0m wb \u001b[38;5;241m=\u001b[39m load_workbook(filename\u001b[38;5;241m=\u001b[39mfile_path)\n\u001b[0;32m     10\u001b[0m \u001b[38;5;66;03m# 选择活动的工作表\u001b[39;00m\n\u001b[0;32m     11\u001b[0m ws \u001b[38;5;241m=\u001b[39m wb\u001b[38;5;241m.\u001b[39mactive\n",
      "File \u001b[1;32mC:\\ProgramData\\anaconda3\\Lib\\site-packages\\openpyxl\\reader\\excel.py:315\u001b[0m, in \u001b[0;36mload_workbook\u001b[1;34m(filename, read_only, keep_vba, data_only, keep_links)\u001b[0m\n\u001b[0;32m    288\u001b[0m \u001b[38;5;28;01mdef\u001b[39;00m \u001b[38;5;21mload_workbook\u001b[39m(filename, read_only\u001b[38;5;241m=\u001b[39m\u001b[38;5;28;01mFalse\u001b[39;00m, keep_vba\u001b[38;5;241m=\u001b[39mKEEP_VBA,\n\u001b[0;32m    289\u001b[0m                   data_only\u001b[38;5;241m=\u001b[39m\u001b[38;5;28;01mFalse\u001b[39;00m, keep_links\u001b[38;5;241m=\u001b[39m\u001b[38;5;28;01mTrue\u001b[39;00m):\n\u001b[0;32m    290\u001b[0m \u001b[38;5;250m    \u001b[39m\u001b[38;5;124;03m\"\"\"Open the given filename and return the workbook\u001b[39;00m\n\u001b[0;32m    291\u001b[0m \n\u001b[0;32m    292\u001b[0m \u001b[38;5;124;03m    :param filename: the path to open or a file-like object\u001b[39;00m\n\u001b[1;32m   (...)\u001b[0m\n\u001b[0;32m    313\u001b[0m \n\u001b[0;32m    314\u001b[0m \u001b[38;5;124;03m    \"\"\"\u001b[39;00m\n\u001b[1;32m--> 315\u001b[0m     reader \u001b[38;5;241m=\u001b[39m ExcelReader(filename, read_only, keep_vba,\n\u001b[0;32m    316\u001b[0m                         data_only, keep_links)\n\u001b[0;32m    317\u001b[0m     reader\u001b[38;5;241m.\u001b[39mread()\n\u001b[0;32m    318\u001b[0m     \u001b[38;5;28;01mreturn\u001b[39;00m reader\u001b[38;5;241m.\u001b[39mwb\n",
      "File \u001b[1;32mC:\\ProgramData\\anaconda3\\Lib\\site-packages\\openpyxl\\reader\\excel.py:124\u001b[0m, in \u001b[0;36mExcelReader.__init__\u001b[1;34m(self, fn, read_only, keep_vba, data_only, keep_links)\u001b[0m\n\u001b[0;32m    122\u001b[0m \u001b[38;5;28;01mdef\u001b[39;00m \u001b[38;5;21m__init__\u001b[39m(\u001b[38;5;28mself\u001b[39m,  fn, read_only\u001b[38;5;241m=\u001b[39m\u001b[38;5;28;01mFalse\u001b[39;00m, keep_vba\u001b[38;5;241m=\u001b[39mKEEP_VBA,\n\u001b[0;32m    123\u001b[0m               data_only\u001b[38;5;241m=\u001b[39m\u001b[38;5;28;01mFalse\u001b[39;00m, keep_links\u001b[38;5;241m=\u001b[39m\u001b[38;5;28;01mTrue\u001b[39;00m):\n\u001b[1;32m--> 124\u001b[0m     \u001b[38;5;28mself\u001b[39m\u001b[38;5;241m.\u001b[39marchive \u001b[38;5;241m=\u001b[39m _validate_archive(fn)\n\u001b[0;32m    125\u001b[0m     \u001b[38;5;28mself\u001b[39m\u001b[38;5;241m.\u001b[39mvalid_files \u001b[38;5;241m=\u001b[39m \u001b[38;5;28mself\u001b[39m\u001b[38;5;241m.\u001b[39marchive\u001b[38;5;241m.\u001b[39mnamelist()\n\u001b[0;32m    126\u001b[0m     \u001b[38;5;28mself\u001b[39m\u001b[38;5;241m.\u001b[39mread_only \u001b[38;5;241m=\u001b[39m read_only\n",
      "File \u001b[1;32mC:\\ProgramData\\anaconda3\\Lib\\site-packages\\openpyxl\\reader\\excel.py:96\u001b[0m, in \u001b[0;36m_validate_archive\u001b[1;34m(filename)\u001b[0m\n\u001b[0;32m     89\u001b[0m             msg \u001b[38;5;241m=\u001b[39m (\u001b[38;5;124m'\u001b[39m\u001b[38;5;124mopenpyxl does not support \u001b[39m\u001b[38;5;132;01m%s\u001b[39;00m\u001b[38;5;124m file format, \u001b[39m\u001b[38;5;124m'\u001b[39m\n\u001b[0;32m     90\u001b[0m                    \u001b[38;5;124m'\u001b[39m\u001b[38;5;124mplease check you can open \u001b[39m\u001b[38;5;124m'\u001b[39m\n\u001b[0;32m     91\u001b[0m                    \u001b[38;5;124m'\u001b[39m\u001b[38;5;124mit with Excel first. \u001b[39m\u001b[38;5;124m'\u001b[39m\n\u001b[0;32m     92\u001b[0m                    \u001b[38;5;124m'\u001b[39m\u001b[38;5;124mSupported formats are: \u001b[39m\u001b[38;5;132;01m%s\u001b[39;00m\u001b[38;5;124m'\u001b[39m) \u001b[38;5;241m%\u001b[39m (file_format,\n\u001b[0;32m     93\u001b[0m                                                    \u001b[38;5;124m'\u001b[39m\u001b[38;5;124m,\u001b[39m\u001b[38;5;124m'\u001b[39m\u001b[38;5;241m.\u001b[39mjoin(SUPPORTED_FORMATS))\n\u001b[0;32m     94\u001b[0m         \u001b[38;5;28;01mraise\u001b[39;00m InvalidFileException(msg)\n\u001b[1;32m---> 96\u001b[0m archive \u001b[38;5;241m=\u001b[39m ZipFile(filename, \u001b[38;5;124m'\u001b[39m\u001b[38;5;124mr\u001b[39m\u001b[38;5;124m'\u001b[39m)\n\u001b[0;32m     97\u001b[0m \u001b[38;5;28;01mreturn\u001b[39;00m archive\n",
      "File \u001b[1;32mC:\\ProgramData\\anaconda3\\Lib\\zipfile.py:1284\u001b[0m, in \u001b[0;36mZipFile.__init__\u001b[1;34m(self, file, mode, compression, allowZip64, compresslevel, strict_timestamps, metadata_encoding)\u001b[0m\n\u001b[0;32m   1282\u001b[0m \u001b[38;5;28;01mwhile\u001b[39;00m \u001b[38;5;28;01mTrue\u001b[39;00m:\n\u001b[0;32m   1283\u001b[0m     \u001b[38;5;28;01mtry\u001b[39;00m:\n\u001b[1;32m-> 1284\u001b[0m         \u001b[38;5;28mself\u001b[39m\u001b[38;5;241m.\u001b[39mfp \u001b[38;5;241m=\u001b[39m io\u001b[38;5;241m.\u001b[39mopen(file, filemode)\n\u001b[0;32m   1285\u001b[0m     \u001b[38;5;28;01mexcept\u001b[39;00m \u001b[38;5;167;01mOSError\u001b[39;00m:\n\u001b[0;32m   1286\u001b[0m         \u001b[38;5;28;01mif\u001b[39;00m filemode \u001b[38;5;129;01min\u001b[39;00m modeDict:\n",
      "\u001b[1;31mFileNotFoundError\u001b[0m: [Errno 2] No such file or directory: 'data/学生成绩.xlsx'"
     ]
    }
   ],
   "source": [
    "# openpyxl库在ananconda中已包含\n",
    "# 程序可以只从excel文件读数据，在python程序中计算总分, 可以不用将总分填入excel文件\n",
    "from openpyxl import load_workbook\n",
    "\n",
    "# 指定Excel文件的路径\n",
    "file_path = 'data/学生成绩.xlsx'\n",
    "\n",
    "# 加载工作簿\n",
    "wb = load_workbook(filename=file_path)\n",
    "# 选择活动的工作表\n",
    "ws = wb.active\n",
    "\n",
    "# 初始化变量来存储总分和学生信息\n",
    "student_scores = []\n",
    "max_score = 0\n",
    "top_students = []\n",
    "\n",
    "# 遍历工作表中的学生成绩\n",
    "for row in ws.iter_rows(min_row=2, values_only=True):  # 假设第一行是标题行，从第二行开始\n",
    "    name, score1, score2, score3 = row\n",
    "    total_score = score1 + score2 + score3\n",
    "    student_scores.append((name, total_score))\n",
    "\n",
    "    # 更新成绩前三名的学生信息\n",
    "    if total_score > max_score:\n",
    "        max_score = total_score\n",
    "        top_students = [(name, total_score)]\n",
    "    elif total_score == max_score:\n",
    "        top_students.append((name, total_score))\n",
    "\n",
    "# 对前三名的学生信息进行排序（如果需要）\n",
    "top_students.sort(key=lambda x: x[1], reverse=True)\n",
    "\n",
    "# 输出成绩前三名的学生姓名和总分\n",
    "print(\"成绩前三名的学生：\")\n",
    "for student in top_students:\n",
    "    print(f\"姓名：{student[0]}, 总分：{student[1]}\")\n"
   ]
  },
  {
   "cell_type": "markdown",
   "id": "4e71f857",
   "metadata": {},
   "source": [
    "###  7．读取配套文件\"data/story.txt\"，统计小说中每个单词的出现频次，输出频次最高的前3个单词。统计前剔除长度为1的单个字母或符号。"
   ]
  },
  {
   "cell_type": "code",
   "execution_count": 41,
   "id": "3b52fcfc",
   "metadata": {},
   "outputs": [
    {
     "ename": "FileNotFoundError",
     "evalue": "[Errno 2] No such file or directory: 'data/story.txt'",
     "output_type": "error",
     "traceback": [
      "\u001b[1;31m---------------------------------------------------------------------------\u001b[0m",
      "\u001b[1;31mFileNotFoundError\u001b[0m                         Traceback (most recent call last)",
      "Cell \u001b[1;32mIn[41], line 5\u001b[0m\n\u001b[0;32m      2\u001b[0m \u001b[38;5;28;01mfrom\u001b[39;00m \u001b[38;5;21;01mcollections\u001b[39;00m \u001b[38;5;28;01mimport\u001b[39;00m Counter\n\u001b[0;32m      4\u001b[0m \u001b[38;5;66;03m# 读取文件内容\u001b[39;00m\n\u001b[1;32m----> 5\u001b[0m \u001b[38;5;28;01mwith\u001b[39;00m \u001b[38;5;28mopen\u001b[39m(\u001b[38;5;124m'\u001b[39m\u001b[38;5;124mdata/story.txt\u001b[39m\u001b[38;5;124m'\u001b[39m, \u001b[38;5;124m'\u001b[39m\u001b[38;5;124mr\u001b[39m\u001b[38;5;124m'\u001b[39m, encoding\u001b[38;5;241m=\u001b[39m\u001b[38;5;124m'\u001b[39m\u001b[38;5;124mutf-8\u001b[39m\u001b[38;5;124m'\u001b[39m) \u001b[38;5;28;01mas\u001b[39;00m file:\n\u001b[0;32m      6\u001b[0m     text \u001b[38;5;241m=\u001b[39m file\u001b[38;5;241m.\u001b[39mread()\u001b[38;5;241m.\u001b[39mlower()  \u001b[38;5;66;03m# 转换为小写以统一大小写\u001b[39;00m\n\u001b[0;32m      8\u001b[0m \u001b[38;5;66;03m# 使用正则表达式替换非字母字符\u001b[39;00m\n",
      "File \u001b[1;32mC:\\ProgramData\\anaconda3\\Lib\\site-packages\\IPython\\core\\interactiveshell.py:286\u001b[0m, in \u001b[0;36m_modified_open\u001b[1;34m(file, *args, **kwargs)\u001b[0m\n\u001b[0;32m    279\u001b[0m \u001b[38;5;28;01mif\u001b[39;00m file \u001b[38;5;129;01min\u001b[39;00m {\u001b[38;5;241m0\u001b[39m, \u001b[38;5;241m1\u001b[39m, \u001b[38;5;241m2\u001b[39m}:\n\u001b[0;32m    280\u001b[0m     \u001b[38;5;28;01mraise\u001b[39;00m \u001b[38;5;167;01mValueError\u001b[39;00m(\n\u001b[0;32m    281\u001b[0m         \u001b[38;5;124mf\u001b[39m\u001b[38;5;124m\"\u001b[39m\u001b[38;5;124mIPython won\u001b[39m\u001b[38;5;124m'\u001b[39m\u001b[38;5;124mt let you open fd=\u001b[39m\u001b[38;5;132;01m{\u001b[39;00mfile\u001b[38;5;132;01m}\u001b[39;00m\u001b[38;5;124m by default \u001b[39m\u001b[38;5;124m\"\u001b[39m\n\u001b[0;32m    282\u001b[0m         \u001b[38;5;124m\"\u001b[39m\u001b[38;5;124mas it is likely to crash IPython. If you know what you are doing, \u001b[39m\u001b[38;5;124m\"\u001b[39m\n\u001b[0;32m    283\u001b[0m         \u001b[38;5;124m\"\u001b[39m\u001b[38;5;124myou can use builtins\u001b[39m\u001b[38;5;124m'\u001b[39m\u001b[38;5;124m open.\u001b[39m\u001b[38;5;124m\"\u001b[39m\n\u001b[0;32m    284\u001b[0m     )\n\u001b[1;32m--> 286\u001b[0m \u001b[38;5;28;01mreturn\u001b[39;00m io_open(file, \u001b[38;5;241m*\u001b[39margs, \u001b[38;5;241m*\u001b[39m\u001b[38;5;241m*\u001b[39mkwargs)\n",
      "\u001b[1;31mFileNotFoundError\u001b[0m: [Errno 2] No such file or directory: 'data/story.txt'"
     ]
    }
   ],
   "source": [
    "import re\n",
    "from collections import Counter\n",
    "\n",
    "# 读取文件内容\n",
    "with open('data/story.txt', 'r', encoding='utf-8') as file:\n",
    "    text = file.read().lower()  # 转换为小写以统一大小写\n",
    "\n",
    "# 使用正则表达式替换非字母字符\n",
    "text = re.sub(r'[^a-zA-Z\\s]', '', text)\n",
    "\n",
    "# 分割文本为单词列表\n",
    "words = text.split()\n",
    "\n",
    "# 统计每个单词的出现频次\n",
    "word_counts = Counter(words)\n",
    "\n",
    "# 剔除长度为1的单词\n",
    "filtered_word_counts = {word: count for word, count in word_counts.items() if len(word) > 1}\n",
    "\n",
    "# 获取频次最高的前3个单词\n",
    "top_three_words = filtered_word_counts.most_common(3)\n",
    "\n",
    "# 输出频次最高的前3个单词\n",
    "print(\"频次最高的前3个单词：\")\n",
    "for word, count in top_three_words:\n",
    "    print(f\"{word}: {count}\")"
   ]
  },
  {
   "cell_type": "markdown",
   "id": "0d27efb6",
   "metadata": {},
   "source": [
    "###  8．读取配套文件stk000001.txt，计算收盘价的5日均价。5日均价是股票术语：5日均价 = (当天收盘价+前4天收盘价之和)/5。前4天的5日均价因为其前面的数据量不足4个无法计算，按惯例可用None值表示。均价保留2位小数。"
   ]
  },
  {
   "cell_type": "code",
   "execution_count": 42,
   "id": "cfad67b9",
   "metadata": {},
   "outputs": [
    {
     "ename": "FileNotFoundError",
     "evalue": "[Errno 2] No such file or directory: 'stk000001.txt'",
     "output_type": "error",
     "traceback": [
      "\u001b[1;31m---------------------------------------------------------------------------\u001b[0m",
      "\u001b[1;31mFileNotFoundError\u001b[0m                         Traceback (most recent call last)",
      "Cell \u001b[1;32mIn[42], line 6\u001b[0m\n\u001b[0;32m      3\u001b[0m close \u001b[38;5;241m=\u001b[39m []\n\u001b[0;32m      5\u001b[0m \u001b[38;5;66;03m# 读取文件内容\u001b[39;00m\n\u001b[1;32m----> 6\u001b[0m \u001b[38;5;28;01mwith\u001b[39;00m \u001b[38;5;28mopen\u001b[39m(\u001b[38;5;124m'\u001b[39m\u001b[38;5;124mstk000001.txt\u001b[39m\u001b[38;5;124m'\u001b[39m, \u001b[38;5;124m'\u001b[39m\u001b[38;5;124mr\u001b[39m\u001b[38;5;124m'\u001b[39m) \u001b[38;5;28;01mas\u001b[39;00m file:\n\u001b[0;32m      7\u001b[0m     \u001b[38;5;28;01mfor\u001b[39;00m line \u001b[38;5;129;01min\u001b[39;00m file:\n\u001b[0;32m      8\u001b[0m         close\u001b[38;5;241m.\u001b[39mappend(\u001b[38;5;28mfloat\u001b[39m(line\u001b[38;5;241m.\u001b[39mstrip()))  \u001b[38;5;66;03m# 假设每行是一个收盘价，转换为浮点数\u001b[39;00m\n",
      "File \u001b[1;32mC:\\ProgramData\\anaconda3\\Lib\\site-packages\\IPython\\core\\interactiveshell.py:286\u001b[0m, in \u001b[0;36m_modified_open\u001b[1;34m(file, *args, **kwargs)\u001b[0m\n\u001b[0;32m    279\u001b[0m \u001b[38;5;28;01mif\u001b[39;00m file \u001b[38;5;129;01min\u001b[39;00m {\u001b[38;5;241m0\u001b[39m, \u001b[38;5;241m1\u001b[39m, \u001b[38;5;241m2\u001b[39m}:\n\u001b[0;32m    280\u001b[0m     \u001b[38;5;28;01mraise\u001b[39;00m \u001b[38;5;167;01mValueError\u001b[39;00m(\n\u001b[0;32m    281\u001b[0m         \u001b[38;5;124mf\u001b[39m\u001b[38;5;124m\"\u001b[39m\u001b[38;5;124mIPython won\u001b[39m\u001b[38;5;124m'\u001b[39m\u001b[38;5;124mt let you open fd=\u001b[39m\u001b[38;5;132;01m{\u001b[39;00mfile\u001b[38;5;132;01m}\u001b[39;00m\u001b[38;5;124m by default \u001b[39m\u001b[38;5;124m\"\u001b[39m\n\u001b[0;32m    282\u001b[0m         \u001b[38;5;124m\"\u001b[39m\u001b[38;5;124mas it is likely to crash IPython. If you know what you are doing, \u001b[39m\u001b[38;5;124m\"\u001b[39m\n\u001b[0;32m    283\u001b[0m         \u001b[38;5;124m\"\u001b[39m\u001b[38;5;124myou can use builtins\u001b[39m\u001b[38;5;124m'\u001b[39m\u001b[38;5;124m open.\u001b[39m\u001b[38;5;124m\"\u001b[39m\n\u001b[0;32m    284\u001b[0m     )\n\u001b[1;32m--> 286\u001b[0m \u001b[38;5;28;01mreturn\u001b[39;00m io_open(file, \u001b[38;5;241m*\u001b[39margs, \u001b[38;5;241m*\u001b[39m\u001b[38;5;241m*\u001b[39mkwargs)\n",
      "\u001b[1;31mFileNotFoundError\u001b[0m: [Errno 2] No such file or directory: 'stk000001.txt'"
     ]
    }
   ],
   "source": [
    "# 初始化保存5日均价和原始收盘价的列表\n",
    "avg5 = []\n",
    "close = []\n",
    "\n",
    "# 读取文件内容\n",
    "with open('stk000001.txt', 'r') as file:\n",
    "    for line in file:\n",
    "        close.append(float(line.strip()))  # 假设每行是一个收盘价，转换为浮点数\n",
    "\n",
    "# 计算5日均价\n",
    "for i in range(len(close)):\n",
    "    if i < 4:  # 前4天没有足够的数据计算5日均价\n",
    "        avg5.append(None)\n",
    "    else:\n",
    "        avg5.append(round(close[i] + close[i-1] + close[i-2] + close[i-3] + close[i-4], 2))\n",
    "\n",
    "# 输出5日均价\n",
    "print(\"5日均价:\", avg5)\n"
   ]
  },
  {
   "cell_type": "markdown",
   "id": "63160eeb",
   "metadata": {},
   "source": [
    "###  9．读取配套文件smoker.txt，这是一篇有关“电子烟”的中文新闻报道。利用jieba库对其做分词处理，剔除长度为1的词，做词云图（注意：首先要执行如下两个命令安装需要的库），图片保存在\"tmp/wc.png\"。"
   ]
  },
  {
   "cell_type": "code",
   "execution_count": 121,
   "id": "6bc6b058",
   "metadata": {},
   "outputs": [],
   "source": [
    "# 安装jieba分词库\n",
    "#!pip  install  jieba    \n",
    "\n",
    "# 安装词云库\n",
    "#!pip  install  wordcloud       "
   ]
  },
  {
   "cell_type": "code",
   "execution_count": 43,
   "id": "b5f57358",
   "metadata": {},
   "outputs": [
    {
     "ename": "FileNotFoundError",
     "evalue": "[Errno 2] No such file or directory: 'smoker.txt'",
     "output_type": "error",
     "traceback": [
      "\u001b[1;31m---------------------------------------------------------------------------\u001b[0m",
      "\u001b[1;31mFileNotFoundError\u001b[0m                         Traceback (most recent call last)",
      "Cell \u001b[1;32mIn[43], line 10\u001b[0m\n\u001b[0;32m      7\u001b[0m     os\u001b[38;5;241m.\u001b[39mmkdir(\u001b[38;5;124m'\u001b[39m\u001b[38;5;124mtmp\u001b[39m\u001b[38;5;124m'\u001b[39m)\n\u001b[0;32m      9\u001b[0m \u001b[38;5;66;03m# 读取文件内容\u001b[39;00m\n\u001b[1;32m---> 10\u001b[0m \u001b[38;5;28;01mwith\u001b[39;00m \u001b[38;5;28mopen\u001b[39m(\u001b[38;5;124m'\u001b[39m\u001b[38;5;124msmoker.txt\u001b[39m\u001b[38;5;124m'\u001b[39m, \u001b[38;5;124m'\u001b[39m\u001b[38;5;124mr\u001b[39m\u001b[38;5;124m'\u001b[39m, encoding\u001b[38;5;241m=\u001b[39m\u001b[38;5;124m'\u001b[39m\u001b[38;5;124mutf-8\u001b[39m\u001b[38;5;124m'\u001b[39m) \u001b[38;5;28;01mas\u001b[39;00m file:\n\u001b[0;32m     11\u001b[0m     text \u001b[38;5;241m=\u001b[39m file\u001b[38;5;241m.\u001b[39mread()\n\u001b[0;32m     13\u001b[0m \u001b[38;5;66;03m# 使用jieba进行分词\u001b[39;00m\n",
      "File \u001b[1;32mC:\\ProgramData\\anaconda3\\Lib\\site-packages\\IPython\\core\\interactiveshell.py:286\u001b[0m, in \u001b[0;36m_modified_open\u001b[1;34m(file, *args, **kwargs)\u001b[0m\n\u001b[0;32m    279\u001b[0m \u001b[38;5;28;01mif\u001b[39;00m file \u001b[38;5;129;01min\u001b[39;00m {\u001b[38;5;241m0\u001b[39m, \u001b[38;5;241m1\u001b[39m, \u001b[38;5;241m2\u001b[39m}:\n\u001b[0;32m    280\u001b[0m     \u001b[38;5;28;01mraise\u001b[39;00m \u001b[38;5;167;01mValueError\u001b[39;00m(\n\u001b[0;32m    281\u001b[0m         \u001b[38;5;124mf\u001b[39m\u001b[38;5;124m\"\u001b[39m\u001b[38;5;124mIPython won\u001b[39m\u001b[38;5;124m'\u001b[39m\u001b[38;5;124mt let you open fd=\u001b[39m\u001b[38;5;132;01m{\u001b[39;00mfile\u001b[38;5;132;01m}\u001b[39;00m\u001b[38;5;124m by default \u001b[39m\u001b[38;5;124m\"\u001b[39m\n\u001b[0;32m    282\u001b[0m         \u001b[38;5;124m\"\u001b[39m\u001b[38;5;124mas it is likely to crash IPython. If you know what you are doing, \u001b[39m\u001b[38;5;124m\"\u001b[39m\n\u001b[0;32m    283\u001b[0m         \u001b[38;5;124m\"\u001b[39m\u001b[38;5;124myou can use builtins\u001b[39m\u001b[38;5;124m'\u001b[39m\u001b[38;5;124m open.\u001b[39m\u001b[38;5;124m\"\u001b[39m\n\u001b[0;32m    284\u001b[0m     )\n\u001b[1;32m--> 286\u001b[0m \u001b[38;5;28;01mreturn\u001b[39;00m io_open(file, \u001b[38;5;241m*\u001b[39margs, \u001b[38;5;241m*\u001b[39m\u001b[38;5;241m*\u001b[39mkwargs)\n",
      "\u001b[1;31mFileNotFoundError\u001b[0m: [Errno 2] No such file or directory: 'smoker.txt'"
     ]
    }
   ],
   "source": [
    "from   wordcloud  import  WordCloud   # 词云库\n",
    "import  jieba                         # 分词库\n",
    "import os\n",
    "\n",
    "# 确保tmp目录存在\n",
    "if not os.path.exists('tmp'):\n",
    "    os.mkdir('tmp')\n",
    "\n",
    "# 读取文件内容\n",
    "with open('smoker.txt', 'r', encoding='utf-8') as file:\n",
    "    text = file.read()\n",
    "\n",
    "# 使用jieba进行分词\n",
    "words = jieba.cut(text)\n",
    "\n",
    "# 剔除长度为1的词，并生成词频字典\n",
    "word_freq = {}\n",
    "for word in words:\n",
    "    if len(word) > 1:\n",
    "        word_freq[word] = word_freq.get(word, 0) + 1\n",
    "\n",
    "# 生成词云\n",
    "wordcloud = WordCloud(font_path='simhei.ttf', width=800, height=600, background_color='white').generate_from_frequencies(word_freq)\n",
    "\n",
    "# 保存词云图\n",
    "wordcloud.to_file('tmp/wc.png')\n",
    "\n",
    "print(\"词云图已保存到 'tmp/wc.png'\")\n"
   ]
  },
  {
   "cell_type": "code",
   "execution_count": 24,
   "id": "f1f1f6a2",
   "metadata": {},
   "outputs": [
    {
     "data": {
      "image/png": "[encoded data removed]",
      "text/plain": [
       "<IPython.core.display.Image object>"
      ]
     },
     "execution_count": 24,
     "metadata": {},
     "output_type": "execute_result"
    }
   ],
   "source": [
    "# 显示图片方法\n",
    "from  IPython.display import  Image \n",
    "Image('tmp/wc.png')"
   ]
  },
  {
   "cell_type": "markdown",
   "id": "3b081542",
   "metadata": {},
   "source": [
    "10.找出配套pic/tu目录下的所有图片文件名，将其相对文件路径保存在列表中输出。"
   ]
  },
  {
   "cell_type": "code",
   "execution_count": 44,
   "id": "a4a6700f",
   "metadata": {},
   "outputs": [
    {
     "name": "stdout",
     "output_type": "stream",
     "text": [
      "[]\n"
     ]
    }
   ],
   "source": [
    "import os\n",
    "\n",
    "# 初始化一个空列表来保存图片文件的相对路径\n",
    "image_files = []\n",
    "\n",
    "# 指定目录路径\n",
    "dir_path = 'pic/tu'\n",
    "\n",
    "# 支持的图片文件扩展名\n",
    "image_extensions = ('.jpg', '.jpeg', '.png', '.gif', '.bmp', '.tiff')\n",
    "\n",
    "# 遍历目录及其子目录\n",
    "for root, dirs, files in os.walk(dir_path):\n",
    "    for file in files:\n",
    "        # 检查文件扩展名是否为图片格式\n",
    "        if file.lower().endswith(image_extensions):\n",
    "            # 将相对路径添加到列表中\n",
    "            image_files.append(os.path.relpath(os.path.join(root, file), start=dir_path))\n",
    "\n",
    "# 输出图片文件的相对路径列表\n",
    "print(image_files)\n"
   ]
  },
  {
   "cell_type": "markdown",
   "id": "727ad906",
   "metadata": {},
   "source": [
    "## 三、实验总结(由学生填写)\n",
    "写出实验结论，讨论实验中所遇的问题及可能的解释和处理方法，也可对实验的改进提出建议，简述自己做实验的心得体会等。\n"
   ]
  },
  {
   "cell_type": "code",
   "execution_count": null,
   "id": "83096405",
   "metadata": {},
   "outputs": [],
   "source": [
    "累了"
   ]
  },
  {
   "cell_type": "markdown",
   "id": "84a72b2b",
   "metadata": {},
   "source": [
    "## 四、教师评语(由教师填写)\n",
    "+ A、完成所有规定的实验内容，实验步骤正确，结果正确。实验总结良好，言之有物。\n",
    "+ B、完成大部分规定的实验内容，实验步骤正确，结果基本正确。实验总结基本可行。\n",
    "+ C、完成大部分规定的实验内容，实验步骤正确，结果基本正确，但无实验总结。\n",
    "+ D、只完成一部分规定的实验内容，仅部分结果正确，无实验总结。\n",
    "+ E、大部分规定的实验内容均未完成。\n"
   ]
  },
  {
   "cell_type": "markdown",
   "id": "6f629d32",
   "metadata": {},
   "source": [
    "实验报告等级: <font size=5>A </font> <br/>\n",
    "教师：XXX"
   ]
  },
  {
   "cell_type": "code",
   "execution_count": null,
   "id": "7e583aba",
   "metadata": {},
   "outputs": [],
   "source": []
  }
 ],
 "metadata": {
  "kernelspec": {
   "display_name": "Python 3 (ipykernel)",
   "language": "python",
   "name": "python3"
  },
  "language_info": {
   "codemirror_mode": {
    "name": "ipython",
    "version": 3
   },
   "file_extension": ".py",
   "mimetype": "text/x-python",
   "name": "python",
   "nbconvert_exporter": "python",
   "pygments_lexer": "ipython3",
   "version": "3.11.5"
  }
 },
 "nbformat": 4,
 "nbformat_minor": 5
}
